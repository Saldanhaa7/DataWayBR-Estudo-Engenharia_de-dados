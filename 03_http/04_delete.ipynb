{
 "cells": [
  {
   "cell_type": "code",
   "execution_count": 1,
   "id": "5f69f27d-83ba-4bcb-bd3c-80a93ac59e9e",
   "metadata": {},
   "outputs": [],
   "source": [
    "import requests"
   ]
  },
  {
   "cell_type": "code",
   "execution_count": 2,
   "id": "777fbb30-90ec-43af-9123-32fcd0d9fc15",
   "metadata": {},
   "outputs": [],
   "source": [
    "url = \"https://gorest.co.in/public/v2/users\"\n",
    "token = \"0bde4985cf49ef77be55f1afc913f6eb1796df85e5201292ce9347d3ab0aa2a6\""
   ]
  },
  {
   "cell_type": "code",
   "execution_count": 3,
   "id": "11bac60e-f9c1-44a9-bc40-54bb80e25079",
   "metadata": {},
   "outputs": [],
   "source": [
    "headers = {\n",
    "    \"Authorization\": f\"Bearer {token}\"\n",
    "}"
   ]
  },
  {
   "cell_type": "code",
   "execution_count": 4,
   "id": "aee8d621-7004-4cd3-a072-fd50356d4aeb",
   "metadata": {},
   "outputs": [],
   "source": [
    "saldanha_id = '6117602'"
   ]
  },
  {
   "cell_type": "markdown",
   "id": "50e540d0-637f-4d40-a293-a974e1d8fe5f",
   "metadata": {
    "jp-MarkdownHeadingCollapsed": true
   },
   "source": [
    "# CRUD"
   ]
  },
  {
   "cell_type": "markdown",
   "id": "b2434fa2-d2cf-46d4-8ce1-d2586f995524",
   "metadata": {},
   "source": [
    "## C -> Create\n",
    "## R -> Read\n",
    "## U -> Update\n",
    "## D -> Delete"
   ]
  },
  {
   "cell_type": "markdown",
   "id": "4aa58db2-9548-430c-9abf-28039d49f95d",
   "metadata": {},
   "source": [
    "# Delete"
   ]
  },
  {
   "cell_type": "code",
   "execution_count": 6,
   "id": "b2799821-903e-4c4f-bf17-a95cf2d2b161",
   "metadata": {},
   "outputs": [],
   "source": [
    "dados= {\n",
    "    'id': saldanha_id\n",
    "}"
   ]
  },
  {
   "cell_type": "code",
   "execution_count": 9,
   "id": "e9238625-0599-4044-a059-644366c01780",
   "metadata": {},
   "outputs": [],
   "source": [
    "usuario_removido = requests.delete(f\"{url}/{saldanha_id}\", headers=headers, data=dados)"
   ]
  },
  {
   "cell_type": "code",
   "execution_count": 10,
   "id": "cc7e6f65-f3e6-412c-9fe9-8330a61ef7a9",
   "metadata": {},
   "outputs": [
    {
     "data": {
      "text/plain": [
       "<Response [204]>"
      ]
     },
     "execution_count": 10,
     "metadata": {},
     "output_type": "execute_result"
    }
   ],
   "source": [
    "usuario_removido"
   ]
  }
 ],
 "metadata": {
  "kernelspec": {
   "display_name": "Python 3 (ipykernel)",
   "language": "python",
   "name": "python3"
  },
  "language_info": {
   "codemirror_mode": {
    "name": "ipython",
    "version": 3
   },
   "file_extension": ".py",
   "mimetype": "text/x-python",
   "name": "python",
   "nbconvert_exporter": "python",
   "pygments_lexer": "ipython3",
   "version": "3.11.6"
  }
 },
 "nbformat": 4,
 "nbformat_minor": 5
}
