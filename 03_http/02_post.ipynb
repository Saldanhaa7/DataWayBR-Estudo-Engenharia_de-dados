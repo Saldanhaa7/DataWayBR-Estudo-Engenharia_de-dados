{
 "cells": [
  {
   "cell_type": "code",
   "execution_count": 1,
   "id": "8418aed8-1b97-458f-93f9-eeff245cbfa3",
   "metadata": {},
   "outputs": [],
   "source": [
    "import requests"
   ]
  },
  {
   "cell_type": "code",
   "execution_count": 3,
   "id": "0683a92a-dee6-4815-9159-eb78d5c9b571",
   "metadata": {},
   "outputs": [],
   "source": [
    "url = \"https://gorest.co.in/public/v2/users\"\n",
    "token = \"0bde4985cf49ef77be55f1afc913f6eb1796df85e5201292ce9347d3ab0aa2a6\""
   ]
  },
  {
   "cell_type": "code",
   "execution_count": 4,
   "id": "a7b7173f-8475-467a-885c-2c5953a3027d",
   "metadata": {},
   "outputs": [],
   "source": [
    "headers = {\n",
    "    \"Authorization\": f\"Bearer {token}\"\n",
    "}"
   ]
  },
  {
   "cell_type": "code",
   "execution_count": 5,
   "id": "619edf3b-d5c6-470e-8084-71f00e415a99",
   "metadata": {},
   "outputs": [],
   "source": [
    "data = {\n",
    "    \"name\":'Saldanha',\n",
    "    \"gender\": 'male',\n",
    "    \"email\": 'mail.test.saldanha@co.in',\n",
    "    \"status\": 'active'\n",
    "}"
   ]
  },
  {
   "cell_type": "code",
   "execution_count": 7,
   "id": "90546178-4a3a-41ba-ab62-af072a1c9f15",
   "metadata": {},
   "outputs": [],
   "source": [
    "resposta = requests.post(\n",
    "    url,\n",
    "    headers=headers,\n",
    "    data=data\n",
    ")"
   ]
  },
  {
   "cell_type": "code",
   "execution_count": 8,
   "id": "51ac713b-5c8b-4980-af23-a78b983685f1",
   "metadata": {},
   "outputs": [
    {
     "data": {
      "text/plain": [
       "201"
      ]
     },
     "execution_count": 8,
     "metadata": {},
     "output_type": "execute_result"
    }
   ],
   "source": [
    "resposta.status_code"
   ]
  },
  {
   "cell_type": "code",
   "execution_count": 10,
   "id": "4d4f4b8a-83c4-4dfe-8487-8641f2bdba1d",
   "metadata": {},
   "outputs": [],
   "source": [
    "usuario_saldanha = resposta.json()"
   ]
  },
  {
   "cell_type": "code",
   "execution_count": 11,
   "id": "44a57fb3-e12b-4939-bfdb-42d5cc763f30",
   "metadata": {},
   "outputs": [
    {
     "data": {
      "text/plain": [
       "{'id': 6117602,\n",
       " 'name': 'Saldanha',\n",
       " 'email': 'mail.test.saldanha@co.in',\n",
       " 'gender': 'male',\n",
       " 'status': 'active'}"
      ]
     },
     "execution_count": 11,
     "metadata": {},
     "output_type": "execute_result"
    }
   ],
   "source": [
    "usuario_saldanha"
   ]
  },
  {
   "cell_type": "code",
   "execution_count": null,
   "id": "71824b84-b257-48a7-8c28-47f0c432b353",
   "metadata": {},
   "outputs": [],
   "source": []
  }
 ],
 "metadata": {
  "kernelspec": {
   "display_name": "Python 3 (ipykernel)",
   "language": "python",
   "name": "python3"
  },
  "language_info": {
   "codemirror_mode": {
    "name": "ipython",
    "version": 3
   },
   "file_extension": ".py",
   "mimetype": "text/x-python",
   "name": "python",
   "nbconvert_exporter": "python",
   "pygments_lexer": "ipython3",
   "version": "3.11.6"
  }
 },
 "nbformat": 4,
 "nbformat_minor": 5
}
