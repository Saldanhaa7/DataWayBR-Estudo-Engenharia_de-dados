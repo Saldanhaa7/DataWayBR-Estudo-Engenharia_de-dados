{
 "cells": [
  {
   "cell_type": "code",
   "execution_count": 3,
   "id": "c8c8cd05-bea3-40e0-a486-62f20bec2034",
   "metadata": {},
   "outputs": [
    {
     "name": "stdout",
     "output_type": "stream",
     "text": [
      "Requirement already satisfied: requests in /opt/conda/lib/python3.11/site-packages (2.31.0)\n",
      "Requirement already satisfied: charset-normalizer<4,>=2 in /opt/conda/lib/python3.11/site-packages (from requests) (3.3.0)\n",
      "Requirement already satisfied: idna<4,>=2.5 in /opt/conda/lib/python3.11/site-packages (from requests) (3.4)\n",
      "Requirement already satisfied: urllib3<3,>=1.21.1 in /opt/conda/lib/python3.11/site-packages (from requests) (2.0.7)\n",
      "Requirement already satisfied: certifi>=2017.4.17 in /opt/conda/lib/python3.11/site-packages (from requests) (2023.7.22)\n"
     ]
    }
   ],
   "source": [
    "!pip install requests\n",
    "import requests"
   ]
  },
  {
   "cell_type": "code",
   "execution_count": 2,
   "id": "ee1de877-0de5-4286-b42b-4657c9978ace",
   "metadata": {},
   "outputs": [],
   "source": [
    "url = \"https://gorest.co.in/public/v2/users\""
   ]
  },
  {
   "cell_type": "code",
   "execution_count": 5,
   "id": "0b48be06-c1a6-403b-aeef-ed1c5301cd75",
   "metadata": {},
   "outputs": [],
   "source": [
    "resposta = requests.get(url)"
   ]
  },
  {
   "cell_type": "code",
   "execution_count": 14,
   "id": "ca059859-cd6d-4c60-af3d-35664ad4e256",
   "metadata": {},
   "outputs": [],
   "source": [
    "status_resposta = resposta.status_code"
   ]
  },
  {
   "cell_type": "code",
   "execution_count": 16,
   "id": "9388c274-ecc0-4054-a6b8-04b7cd3b9fe8",
   "metadata": {},
   "outputs": [
    {
     "name": "stdout",
     "output_type": "stream",
     "text": [
      "[{'id': 6079163, 'name': 'Dipali Kocchar', 'email': 'kocchar_dipali@dubuque.test', 'gender': 'male', 'status': 'inactive'}, {'id': 6079162, 'name': 'Chitraksh Johar Ret.', 'email': 'chitraksh_ret_johar@muller.example', 'gender': 'female', 'status': 'inactive'}, {'id': 6079158, 'name': 'Paramartha Jain II', 'email': 'paramartha_ii_jain@jenkins-heaney.test', 'gender': 'male', 'status': 'active'}, {'id': 6079153, 'name': 'Amb. Shantanu Bandopadhyay', 'email': 'amb_shantanu_bandopadhyay@pagac.test', 'gender': 'male', 'status': 'active'}, {'id': 6079152, 'name': 'Abhirath Iyengar DO', 'email': 'iyengar_do_abhirath@wiza.test', 'gender': 'female', 'status': 'inactive'}, {'id': 6079150, 'name': 'Dr. Dayaamay Kocchar', 'email': 'dayaamay_dr_kocchar@wolf.example', 'gender': 'male', 'status': 'inactive'}, {'id': 6079149, 'name': 'Poornima Pothuvaal', 'email': 'pothuvaal_poornima@daniel.test', 'gender': 'male', 'status': 'inactive'}, {'id': 6079148, 'name': 'Deeksha Panicker', 'email': 'panicker_deeksha@schowalter.example', 'gender': 'female', 'status': 'active'}, {'id': 6079147, 'name': 'Javas Menon', 'email': 'menon_javas@lubowitz.example', 'gender': 'female', 'status': 'inactive'}, {'id': 6079146, 'name': 'Devesh Varrier', 'email': 'varrier_devesh@jacobson.example', 'gender': 'female', 'status': 'active'}]\n"
     ]
    }
   ],
   "source": [
    "if status_resposta == 200:\n",
    "    usuarios = resposta.json()\n",
    "    print(usuarios)\n",
    "else:\n",
    "    print(f\"Algo de errado aconteceu: {status_resposta}\")"
   ]
  },
  {
   "cell_type": "code",
   "execution_count": null,
   "id": "0437eb19-f522-43e9-ab67-a0d4228e7218",
   "metadata": {},
   "outputs": [],
   "source": []
  }
 ],
 "metadata": {
  "kernelspec": {
   "display_name": "Python 3 (ipykernel)",
   "language": "python",
   "name": "python3"
  },
  "language_info": {
   "codemirror_mode": {
    "name": "ipython",
    "version": 3
   },
   "file_extension": ".py",
   "mimetype": "text/x-python",
   "name": "python",
   "nbconvert_exporter": "python",
   "pygments_lexer": "ipython3",
   "version": "3.11.6"
  }
 },
 "nbformat": 4,
 "nbformat_minor": 5
}
