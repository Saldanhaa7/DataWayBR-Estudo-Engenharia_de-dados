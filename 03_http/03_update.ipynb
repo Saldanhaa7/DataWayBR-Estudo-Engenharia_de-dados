{
 "cells": [
  {
   "cell_type": "code",
   "execution_count": 1,
   "id": "e585e522-a610-486c-b40f-882a4c36d2f5",
   "metadata": {},
   "outputs": [],
   "source": [
    "import requests"
   ]
  },
  {
   "cell_type": "code",
   "execution_count": 2,
   "id": "34ffb7c2-4daf-4ea6-ad86-3ab6686bd15e",
   "metadata": {},
   "outputs": [],
   "source": [
    "url = \"https://gorest.co.in/public/v2/users\"\n",
    "token = \"0bde4985cf49ef77be55f1afc913f6eb1796df85e5201292ce9347d3ab0aa2a6\""
   ]
  },
  {
   "cell_type": "code",
   "execution_count": 3,
   "id": "683c524c-edea-4373-a620-1ea715f82c9e",
   "metadata": {},
   "outputs": [],
   "source": [
    "headers = {\n",
    "    \"Authorization\": f\"Bearer {token}\"\n",
    "}"
   ]
  },
  {
   "cell_type": "code",
   "execution_count": 4,
   "id": "fac7a2ce-f4d6-463c-b0e9-922e50ab33cc",
   "metadata": {},
   "outputs": [],
   "source": [
    "saldanha_id = '6117602'"
   ]
  },
  {
   "cell_type": "markdown",
   "id": "39665e09-6237-4b44-bda0-e95bba61a551",
   "metadata": {},
   "source": [
    "# GET"
   ]
  },
  {
   "cell_type": "code",
   "execution_count": 14,
   "id": "8434f72d-6b87-49d9-8438-28a3ccfc2d73",
   "metadata": {},
   "outputs": [],
   "source": [
    "url_saldanha = f\"{url}/{saldanha_id}\""
   ]
  },
  {
   "cell_type": "code",
   "execution_count": 15,
   "id": "55e3f029-2c27-45eb-9393-23af884bd106",
   "metadata": {},
   "outputs": [],
   "source": [
    "status_usuario = requests.get(url_saldanha, headers=headers)"
   ]
  },
  {
   "cell_type": "code",
   "execution_count": 16,
   "id": "6df7fc03-faad-4d92-8db8-46a6672a31fc",
   "metadata": {},
   "outputs": [],
   "source": [
    "resposta_json = status_usuario.json()"
   ]
  },
  {
   "cell_type": "code",
   "execution_count": 17,
   "id": "832f7f72-128e-4a71-8786-4961a5f1e02b",
   "metadata": {},
   "outputs": [
    {
     "data": {
      "text/plain": [
       "'inactive'"
      ]
     },
     "execution_count": 17,
     "metadata": {},
     "output_type": "execute_result"
    }
   ],
   "source": [
    "resposta_json.get('status')"
   ]
  },
  {
   "cell_type": "markdown",
   "id": "30e2bca4-0c0d-4be8-90f1-f0cc52bb5ab9",
   "metadata": {},
   "source": [
    "# Uptade"
   ]
  },
  {
   "cell_type": "code",
   "execution_count": 12,
   "id": "120dfd67-e158-41f9-bd6b-4a0811f27c5e",
   "metadata": {},
   "outputs": [],
   "source": [
    "dados = {\n",
    "    'id': saldanha_id,\n",
    "    'status': 'inactive'\n",
    "}"
   ]
  },
  {
   "cell_type": "code",
   "execution_count": 13,
   "id": "f735fbd8-0c56-4499-a8ef-4379fb2e2c62",
   "metadata": {},
   "outputs": [],
   "source": [
    "response = requests.patch(url_saldanha, headers=headers, data=dados)"
   ]
  },
  {
   "cell_type": "code",
   "execution_count": null,
   "id": "c353f80d-7337-4a43-b183-33a6a7aa9dc9",
   "metadata": {},
   "outputs": [],
   "source": []
  }
 ],
 "metadata": {
  "kernelspec": {
   "display_name": "Python 3 (ipykernel)",
   "language": "python",
   "name": "python3"
  },
  "language_info": {
   "codemirror_mode": {
    "name": "ipython",
    "version": 3
   },
   "file_extension": ".py",
   "mimetype": "text/x-python",
   "name": "python",
   "nbconvert_exporter": "python",
   "pygments_lexer": "ipython3",
   "version": "3.11.6"
  }
 },
 "nbformat": 4,
 "nbformat_minor": 5
}
