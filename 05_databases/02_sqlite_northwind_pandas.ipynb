{
 "cells": [
  {
   "cell_type": "code",
   "execution_count": 1,
   "id": "d8fd07c9-060d-43b1-9fc2-4848ebd5dda3",
   "metadata": {},
   "outputs": [],
   "source": [
    "import sqlite3"
   ]
  },
  {
   "cell_type": "code",
   "execution_count": 2,
   "id": "ba1c9541-6a1f-4f2b-801c-2287af3ff3bb",
   "metadata": {},
   "outputs": [],
   "source": [
    "import pandas as pd"
   ]
  },
  {
   "cell_type": "code",
   "execution_count": 3,
   "id": "44561031-36bd-4e69-bed9-f386900e87d1",
   "metadata": {},
   "outputs": [],
   "source": [
    "conn = sqlite3.connect('./database/sqlite/northwind.db')"
   ]
  },
  {
   "cell_type": "code",
   "execution_count": 4,
   "id": "2eb431d6-1967-47f7-818b-51c2625256d3",
   "metadata": {},
   "outputs": [
    {
     "data": {
      "text/html": [
       "<div>\n",
       "<style scoped>\n",
       "    .dataframe tbody tr th:only-of-type {\n",
       "        vertical-align: middle;\n",
       "    }\n",
       "\n",
       "    .dataframe tbody tr th {\n",
       "        vertical-align: top;\n",
       "    }\n",
       "\n",
       "    .dataframe thead th {\n",
       "        text-align: right;\n",
       "    }\n",
       "</style>\n",
       "<table border=\"1\" class=\"dataframe\">\n",
       "  <thead>\n",
       "    <tr style=\"text-align: right;\">\n",
       "      <th></th>\n",
       "      <th>name</th>\n",
       "    </tr>\n",
       "  </thead>\n",
       "  <tbody>\n",
       "    <tr>\n",
       "      <th>0</th>\n",
       "      <td>Categories</td>\n",
       "    </tr>\n",
       "    <tr>\n",
       "      <th>1</th>\n",
       "      <td>sqlite_sequence</td>\n",
       "    </tr>\n",
       "    <tr>\n",
       "      <th>2</th>\n",
       "      <td>CustomerCustomerDemo</td>\n",
       "    </tr>\n",
       "    <tr>\n",
       "      <th>3</th>\n",
       "      <td>CustomerDemographics</td>\n",
       "    </tr>\n",
       "    <tr>\n",
       "      <th>4</th>\n",
       "      <td>Customers</td>\n",
       "    </tr>\n",
       "  </tbody>\n",
       "</table>\n",
       "</div>"
      ],
      "text/plain": [
       "                   name\n",
       "0            Categories\n",
       "1       sqlite_sequence\n",
       "2  CustomerCustomerDemo\n",
       "3  CustomerDemographics\n",
       "4             Customers"
      ]
     },
     "execution_count": 4,
     "metadata": {},
     "output_type": "execute_result"
    }
   ],
   "source": [
    "query = \"\"\"\n",
    "   SELECT name \n",
    "     FROM sqlite_master\n",
    "    WHERE type='table';\n",
    "   \"\"\"\n",
    "\n",
    "df_all_tables = pd.read_sql_query(query, conn)\n",
    "\n",
    "df_all_tables.head()"
   ]
  },
  {
   "cell_type": "code",
   "execution_count": 5,
   "id": "ed4915c7-2c7b-45bc-8376-f8e8d54de81e",
   "metadata": {},
   "outputs": [],
   "source": [
    "query_all_orders = \"\"\"\n",
    "   SELECT *\n",
    "     FROM Orders\n",
    "\"\"\""
   ]
  },
  {
   "cell_type": "code",
   "execution_count": 6,
   "id": "a9c1b85f-7500-49f2-bbcb-d7dbedb3d7ea",
   "metadata": {},
   "outputs": [],
   "source": [
    "df_all_orders = pd.read_sql_query(query_all_orders, conn)"
   ]
  },
  {
   "cell_type": "code",
   "execution_count": 7,
   "id": "8313b50a-23ea-49b2-851d-ebf8a999006e",
   "metadata": {},
   "outputs": [
    {
     "data": {
      "text/html": [
       "<div>\n",
       "<style scoped>\n",
       "    .dataframe tbody tr th:only-of-type {\n",
       "        vertical-align: middle;\n",
       "    }\n",
       "\n",
       "    .dataframe tbody tr th {\n",
       "        vertical-align: top;\n",
       "    }\n",
       "\n",
       "    .dataframe thead th {\n",
       "        text-align: right;\n",
       "    }\n",
       "</style>\n",
       "<table border=\"1\" class=\"dataframe\">\n",
       "  <thead>\n",
       "    <tr style=\"text-align: right;\">\n",
       "      <th></th>\n",
       "      <th>OrderID</th>\n",
       "      <th>CustomerID</th>\n",
       "      <th>EmployeeID</th>\n",
       "      <th>OrderDate</th>\n",
       "      <th>RequiredDate</th>\n",
       "      <th>ShippedDate</th>\n",
       "      <th>ShipVia</th>\n",
       "      <th>Freight</th>\n",
       "      <th>ShipName</th>\n",
       "      <th>ShipAddress</th>\n",
       "      <th>ShipCity</th>\n",
       "      <th>ShipRegion</th>\n",
       "      <th>ShipPostalCode</th>\n",
       "      <th>ShipCountry</th>\n",
       "    </tr>\n",
       "  </thead>\n",
       "  <tbody>\n",
       "    <tr>\n",
       "      <th>0</th>\n",
       "      <td>10248</td>\n",
       "      <td>VINET</td>\n",
       "      <td>5</td>\n",
       "      <td>2016-07-04</td>\n",
       "      <td>2016-08-01</td>\n",
       "      <td>2016-07-16</td>\n",
       "      <td>3</td>\n",
       "      <td>32.38</td>\n",
       "      <td>Vins et alcools Chevalier</td>\n",
       "      <td>59 rue de l-Abbaye</td>\n",
       "      <td>Reims</td>\n",
       "      <td>Western Europe</td>\n",
       "      <td>51100</td>\n",
       "      <td>France</td>\n",
       "    </tr>\n",
       "    <tr>\n",
       "      <th>1</th>\n",
       "      <td>10249</td>\n",
       "      <td>TOMSP</td>\n",
       "      <td>6</td>\n",
       "      <td>2016-07-05</td>\n",
       "      <td>2016-08-16</td>\n",
       "      <td>2016-07-10</td>\n",
       "      <td>1</td>\n",
       "      <td>11.61</td>\n",
       "      <td>Toms Spezialitäten</td>\n",
       "      <td>Luisenstr. 48</td>\n",
       "      <td>Münster</td>\n",
       "      <td>Western Europe</td>\n",
       "      <td>44087</td>\n",
       "      <td>Germany</td>\n",
       "    </tr>\n",
       "    <tr>\n",
       "      <th>2</th>\n",
       "      <td>10250</td>\n",
       "      <td>HANAR</td>\n",
       "      <td>4</td>\n",
       "      <td>2016-07-08</td>\n",
       "      <td>2016-08-05</td>\n",
       "      <td>2016-07-12</td>\n",
       "      <td>2</td>\n",
       "      <td>65.83</td>\n",
       "      <td>Hanari Carnes</td>\n",
       "      <td>Rua do Paço, 67</td>\n",
       "      <td>Rio de Janeiro</td>\n",
       "      <td>South America</td>\n",
       "      <td>05454-876</td>\n",
       "      <td>Brazil</td>\n",
       "    </tr>\n",
       "    <tr>\n",
       "      <th>3</th>\n",
       "      <td>10251</td>\n",
       "      <td>VICTE</td>\n",
       "      <td>3</td>\n",
       "      <td>2016-07-08</td>\n",
       "      <td>2016-08-05</td>\n",
       "      <td>2016-07-15</td>\n",
       "      <td>1</td>\n",
       "      <td>41.34</td>\n",
       "      <td>Victuailles en stock</td>\n",
       "      <td>2, rue du Commerce</td>\n",
       "      <td>Lyon</td>\n",
       "      <td>Western Europe</td>\n",
       "      <td>69004</td>\n",
       "      <td>France</td>\n",
       "    </tr>\n",
       "    <tr>\n",
       "      <th>4</th>\n",
       "      <td>10252</td>\n",
       "      <td>SUPRD</td>\n",
       "      <td>4</td>\n",
       "      <td>2016-07-09</td>\n",
       "      <td>2016-08-06</td>\n",
       "      <td>2016-07-11</td>\n",
       "      <td>2</td>\n",
       "      <td>51.30</td>\n",
       "      <td>Suprêmes délices</td>\n",
       "      <td>Boulevard Tirou, 255</td>\n",
       "      <td>Charleroi</td>\n",
       "      <td>Western Europe</td>\n",
       "      <td>B-6000</td>\n",
       "      <td>Belgium</td>\n",
       "    </tr>\n",
       "  </tbody>\n",
       "</table>\n",
       "</div>"
      ],
      "text/plain": [
       "   OrderID CustomerID  EmployeeID   OrderDate RequiredDate ShippedDate  \\\n",
       "0    10248      VINET           5  2016-07-04   2016-08-01  2016-07-16   \n",
       "1    10249      TOMSP           6  2016-07-05   2016-08-16  2016-07-10   \n",
       "2    10250      HANAR           4  2016-07-08   2016-08-05  2016-07-12   \n",
       "3    10251      VICTE           3  2016-07-08   2016-08-05  2016-07-15   \n",
       "4    10252      SUPRD           4  2016-07-09   2016-08-06  2016-07-11   \n",
       "\n",
       "   ShipVia  Freight                   ShipName           ShipAddress  \\\n",
       "0        3    32.38  Vins et alcools Chevalier    59 rue de l-Abbaye   \n",
       "1        1    11.61         Toms Spezialitäten         Luisenstr. 48   \n",
       "2        2    65.83              Hanari Carnes       Rua do Paço, 67   \n",
       "3        1    41.34       Victuailles en stock    2, rue du Commerce   \n",
       "4        2    51.30           Suprêmes délices  Boulevard Tirou, 255   \n",
       "\n",
       "         ShipCity      ShipRegion ShipPostalCode ShipCountry  \n",
       "0           Reims  Western Europe          51100      France  \n",
       "1         Münster  Western Europe          44087     Germany  \n",
       "2  Rio de Janeiro   South America      05454-876      Brazil  \n",
       "3            Lyon  Western Europe          69004      France  \n",
       "4       Charleroi  Western Europe         B-6000     Belgium  "
      ]
     },
     "execution_count": 7,
     "metadata": {},
     "output_type": "execute_result"
    }
   ],
   "source": [
    "df_all_orders.head()"
   ]
  },
  {
   "cell_type": "code",
   "execution_count": 8,
   "id": "cdc0fef2-a5b0-46c2-b5ad-6b04869818b9",
   "metadata": {},
   "outputs": [],
   "source": [
    "df_all_orders_by_city = (\n",
    "    df_all_orders\n",
    "    .groupby('ShipCity')\n",
    "    .agg(\n",
    "        count_orders=('OrderID', 'count')\n",
    "    )\n",
    "    .sort_values('count_orders', ascending=False)\n",
    ")"
   ]
  },
  {
   "cell_type": "code",
   "execution_count": 9,
   "id": "967bf2ec-d937-4b9e-b7dc-305e094e3fd4",
   "metadata": {},
   "outputs": [
    {
     "data": {
      "text/html": [
       "<div>\n",
       "<style scoped>\n",
       "    .dataframe tbody tr th:only-of-type {\n",
       "        vertical-align: middle;\n",
       "    }\n",
       "\n",
       "    .dataframe tbody tr th {\n",
       "        vertical-align: top;\n",
       "    }\n",
       "\n",
       "    .dataframe thead th {\n",
       "        text-align: right;\n",
       "    }\n",
       "</style>\n",
       "<table border=\"1\" class=\"dataframe\">\n",
       "  <thead>\n",
       "    <tr style=\"text-align: right;\">\n",
       "      <th></th>\n",
       "      <th>count_orders</th>\n",
       "    </tr>\n",
       "    <tr>\n",
       "      <th>ShipCity</th>\n",
       "      <th></th>\n",
       "    </tr>\n",
       "  </thead>\n",
       "  <tbody>\n",
       "    <tr>\n",
       "      <th>Rio de Janeiro</th>\n",
       "      <td>34</td>\n",
       "    </tr>\n",
       "    <tr>\n",
       "      <th>London</th>\n",
       "      <td>33</td>\n",
       "    </tr>\n",
       "    <tr>\n",
       "      <th>Sao Paulo</th>\n",
       "      <td>31</td>\n",
       "    </tr>\n",
       "    <tr>\n",
       "      <th>Boise</th>\n",
       "      <td>31</td>\n",
       "    </tr>\n",
       "    <tr>\n",
       "      <th>Graz</th>\n",
       "      <td>30</td>\n",
       "    </tr>\n",
       "  </tbody>\n",
       "</table>\n",
       "</div>"
      ],
      "text/plain": [
       "                count_orders\n",
       "ShipCity                    \n",
       "Rio de Janeiro            34\n",
       "London                    33\n",
       "Sao Paulo                 31\n",
       "Boise                     31\n",
       "Graz                      30"
      ]
     },
     "execution_count": 9,
     "metadata": {},
     "output_type": "execute_result"
    }
   ],
   "source": [
    "df_all_orders_by_city.head()"
   ]
  },
  {
   "cell_type": "code",
   "execution_count": 10,
   "id": "8734bd88-8f85-435d-9647-932c9baf06b9",
   "metadata": {},
   "outputs": [
    {
     "data": {
      "text/plain": [
       "70"
      ]
     },
     "execution_count": 10,
     "metadata": {},
     "output_type": "execute_result"
    }
   ],
   "source": [
    "df_all_orders_by_city.to_sql('OrdersByCityCount', conn, if_exists='replace')"
   ]
  },
  {
   "cell_type": "code",
   "execution_count": 11,
   "id": "5b6e38ff-50f8-43da-bd13-b28bacbd0df4",
   "metadata": {},
   "outputs": [],
   "source": [
    "query_analysis = \"\"\"\n",
    "    SELECT * FROM OrdersByCityCount\n",
    "\"\"\""
   ]
  },
  {
   "cell_type": "code",
   "execution_count": 12,
   "id": "80a82b5c-9c8c-44f5-af55-937e1d753ac8",
   "metadata": {},
   "outputs": [],
   "source": [
    "analysis = pd.read_sql_query(query_analysis, conn)"
   ]
  },
  {
   "cell_type": "code",
   "execution_count": 13,
   "id": "25d53c31-55f7-46f2-8bcd-77eed510c78a",
   "metadata": {},
   "outputs": [
    {
     "data": {
      "text/html": [
       "<div>\n",
       "<style scoped>\n",
       "    .dataframe tbody tr th:only-of-type {\n",
       "        vertical-align: middle;\n",
       "    }\n",
       "\n",
       "    .dataframe tbody tr th {\n",
       "        vertical-align: top;\n",
       "    }\n",
       "\n",
       "    .dataframe thead th {\n",
       "        text-align: right;\n",
       "    }\n",
       "</style>\n",
       "<table border=\"1\" class=\"dataframe\">\n",
       "  <thead>\n",
       "    <tr style=\"text-align: right;\">\n",
       "      <th></th>\n",
       "      <th>ShipCity</th>\n",
       "      <th>count_orders</th>\n",
       "    </tr>\n",
       "  </thead>\n",
       "  <tbody>\n",
       "    <tr>\n",
       "      <th>0</th>\n",
       "      <td>Rio de Janeiro</td>\n",
       "      <td>34</td>\n",
       "    </tr>\n",
       "    <tr>\n",
       "      <th>1</th>\n",
       "      <td>London</td>\n",
       "      <td>33</td>\n",
       "    </tr>\n",
       "    <tr>\n",
       "      <th>2</th>\n",
       "      <td>Sao Paulo</td>\n",
       "      <td>31</td>\n",
       "    </tr>\n",
       "    <tr>\n",
       "      <th>3</th>\n",
       "      <td>Boise</td>\n",
       "      <td>31</td>\n",
       "    </tr>\n",
       "    <tr>\n",
       "      <th>4</th>\n",
       "      <td>Graz</td>\n",
       "      <td>30</td>\n",
       "    </tr>\n",
       "    <tr>\n",
       "      <th>...</th>\n",
       "      <td>...</td>\n",
       "      <td>...</td>\n",
       "    </tr>\n",
       "    <tr>\n",
       "      <th>65</th>\n",
       "      <td>Butte</td>\n",
       "      <td>3</td>\n",
       "    </tr>\n",
       "    <tr>\n",
       "      <th>66</th>\n",
       "      <td>Kirkland</td>\n",
       "      <td>3</td>\n",
       "    </tr>\n",
       "    <tr>\n",
       "      <th>67</th>\n",
       "      <td>Vancouver</td>\n",
       "      <td>3</td>\n",
       "    </tr>\n",
       "    <tr>\n",
       "      <th>68</th>\n",
       "      <td>Caracas</td>\n",
       "      <td>2</td>\n",
       "    </tr>\n",
       "    <tr>\n",
       "      <th>69</th>\n",
       "      <td>Walla Walla</td>\n",
       "      <td>2</td>\n",
       "    </tr>\n",
       "  </tbody>\n",
       "</table>\n",
       "<p>70 rows × 2 columns</p>\n",
       "</div>"
      ],
      "text/plain": [
       "          ShipCity  count_orders\n",
       "0   Rio de Janeiro            34\n",
       "1           London            33\n",
       "2        Sao Paulo            31\n",
       "3            Boise            31\n",
       "4             Graz            30\n",
       "..             ...           ...\n",
       "65           Butte             3\n",
       "66        Kirkland             3\n",
       "67       Vancouver             3\n",
       "68         Caracas             2\n",
       "69     Walla Walla             2\n",
       "\n",
       "[70 rows x 2 columns]"
      ]
     },
     "execution_count": 13,
     "metadata": {},
     "output_type": "execute_result"
    }
   ],
   "source": [
    "analysis"
   ]
  },
  {
   "cell_type": "code",
   "execution_count": 14,
   "id": "caa9fca7-0d89-4795-abbe-2dc55f95c6da",
   "metadata": {},
   "outputs": [],
   "source": [
    "conn.close()"
   ]
  },
  {
   "cell_type": "code",
   "execution_count": null,
   "id": "75f9dd34-6094-4bee-8266-d7eced37f6ff",
   "metadata": {},
   "outputs": [],
   "source": []
  }
 ],
 "metadata": {
  "kernelspec": {
   "display_name": "Python 3 (ipykernel)",
   "language": "python",
   "name": "python3"
  },
  "language_info": {
   "codemirror_mode": {
    "name": "ipython",
    "version": 3
   },
   "file_extension": ".py",
   "mimetype": "text/x-python",
   "name": "python",
   "nbconvert_exporter": "python",
   "pygments_lexer": "ipython3",
   "version": "3.11.6"
  }
 },
 "nbformat": 4,
 "nbformat_minor": 5
}
