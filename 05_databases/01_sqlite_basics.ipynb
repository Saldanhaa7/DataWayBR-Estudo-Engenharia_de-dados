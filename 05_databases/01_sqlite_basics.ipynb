{
 "cells": [
  {
   "cell_type": "code",
   "execution_count": 1,
   "id": "cb95c185-1398-4d0f-9b16-fb022a23af13",
   "metadata": {},
   "outputs": [],
   "source": [
    "import sqlite3"
   ]
  },
  {
   "cell_type": "code",
   "execution_count": 19,
   "id": "aba9f00f-46fc-412d-8283-bd4eb2f011b9",
   "metadata": {},
   "outputs": [],
   "source": [
    "conn = sqlite3.connect('./database/sqlite/test.db')"
   ]
  },
  {
   "cell_type": "code",
   "execution_count": 4,
   "id": "8ed01e8d-17ff-45ab-95d2-e0679ed581d3",
   "metadata": {},
   "outputs": [
    {
     "data": {
      "text/plain": [
       "<sqlite3.Cursor at 0x7f8ec85090c0>"
      ]
     },
     "execution_count": 4,
     "metadata": {},
     "output_type": "execute_result"
    }
   ],
   "source": [
    "conn.execute(\n",
    "    \"\"\"\n",
    "        CREATE TABLE IF NOT EXISTS EMPRESA(\n",
    "            ID INT PRIMARY  KEY       NOT NULL,\n",
    "            NOME            TEXT      NOT NULL,\n",
    "            ENDERECO        CHAR(50),\n",
    "            LIMITE_CREDITO  REAL      NOT NULL\n",
    "        );\n",
    "    \"\"\")"
   ]
  },
  {
   "cell_type": "code",
   "execution_count": 9,
   "id": "9c6d51a3-a2e9-427c-8acb-7bf6a8136873",
   "metadata": {},
   "outputs": [
    {
     "data": {
      "text/plain": [
       "<sqlite3.Cursor at 0x7f8ec850a440>"
      ]
     },
     "execution_count": 9,
     "metadata": {},
     "output_type": "execute_result"
    }
   ],
   "source": [
    "conn.execute(\n",
    "    \"\"\"\n",
    "        INSERT INTO EMPRESA (ID, NOME, ENDERECO, LIMITE_CREDITO)\n",
    "        VALUES (2, 'EMPRESA_X', 'BRAZIL', 20000.00 );\n",
    "    \"\"\")"
   ]
  },
  {
   "cell_type": "code",
   "execution_count": 12,
   "id": "1b2cf7b7-a4c3-4c95-a24f-0dcc89dbf00d",
   "metadata": {},
   "outputs": [
    {
     "data": {
      "text/plain": [
       "<sqlite3.Cursor at 0x7f8ec8558640>"
      ]
     },
     "execution_count": 12,
     "metadata": {},
     "output_type": "execute_result"
    }
   ],
   "source": [
    "conn.execute(\n",
    "    \"\"\"\n",
    "        INSERT INTO EMPRESA (ID, NOME, ENDERECO, LIMITE_CREDITO)\n",
    "        VALUES (1, 'EMPRESA_Y', 'BRAZIL', 25000.00 );\n",
    "    \"\"\")"
   ]
  },
  {
   "cell_type": "code",
   "execution_count": 20,
   "id": "a53ffb7e-568a-46f3-af0f-5f6196afb921",
   "metadata": {},
   "outputs": [
    {
     "name": "stdout",
     "output_type": "stream",
     "text": [
      "row: (3, 'EMPRESA_H', 'BRAZIL', 20000.0)\n",
      "row: (4, 'EMPRESA_R', 'BRAZIL', 25000.0)\n",
      "row: (2, 'EMPRESA_X', 'BRAZIL', 20000.0)\n",
      "row: (1, 'EMPRESA_Y', 'BRAZIL', 25000.0)\n"
     ]
    }
   ],
   "source": [
    "cursor = conn.execute(\"SELECT id, nome, endereco, limite_credito from EMPRESA;\")\n",
    "\n",
    "for row in cursor:\n",
    "   print(f\"row: {row}\")\n",
    "\n",
    "conn.commit()"
   ]
  },
  {
   "cell_type": "code",
   "execution_count": 21,
   "id": "2b4316d5-5846-45ad-b6ef-26c935f15fa4",
   "metadata": {},
   "outputs": [],
   "source": [
    "conn.close()"
   ]
  },
  {
   "cell_type": "code",
   "execution_count": null,
   "id": "a0e6467d-362f-41c5-b9bd-710a85f88d34",
   "metadata": {},
   "outputs": [],
   "source": []
  }
 ],
 "metadata": {
  "kernelspec": {
   "display_name": "Python 3 (ipykernel)",
   "language": "python",
   "name": "python3"
  },
  "language_info": {
   "codemirror_mode": {
    "name": "ipython",
    "version": 3
   },
   "file_extension": ".py",
   "mimetype": "text/x-python",
   "name": "python",
   "nbconvert_exporter": "python",
   "pygments_lexer": "ipython3",
   "version": "3.11.6"
  }
 },
 "nbformat": 4,
 "nbformat_minor": 5
}
