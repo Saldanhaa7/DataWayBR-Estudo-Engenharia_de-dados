{
 "cells": [
  {
   "cell_type": "code",
   "execution_count": 1,
   "id": "4299f1a9-21e4-44ec-9715-ad77f921b82c",
   "metadata": {},
   "outputs": [],
   "source": [
    "import sqlite3"
   ]
  },
  {
   "cell_type": "code",
   "execution_count": 2,
   "id": "5be3feb0-c82c-42c8-a266-2002936176b9",
   "metadata": {},
   "outputs": [],
   "source": [
    "from pprint import pprint"
   ]
  },
  {
   "cell_type": "code",
   "execution_count": 3,
   "id": "6694726d-23c1-44ab-9be5-0fc7ec70f202",
   "metadata": {},
   "outputs": [],
   "source": [
    "conn = sqlite3.connect('./database/sqlite/northwind.db')"
   ]
  },
  {
   "cell_type": "code",
   "execution_count": 4,
   "id": "f469bf14-9ba4-4708-9a64-31b6f43bcd46",
   "metadata": {},
   "outputs": [
    {
     "name": "stdout",
     "output_type": "stream",
     "text": [
      "[('Categories',),\n",
      " ('sqlite_sequence',),\n",
      " ('CustomerCustomerDemo',),\n",
      " ('CustomerDemographics',),\n",
      " ('Customers',),\n",
      " ('Employees',),\n",
      " ('EmployeeTerritories',),\n",
      " ('Order Details',),\n",
      " ('Orders',),\n",
      " ('Products',),\n",
      " ('Regions',),\n",
      " ('Shippers',),\n",
      " ('Suppliers',),\n",
      " ('Territories',),\n",
      " ('OrdersByCityCount',)]\n"
     ]
    }
   ],
   "source": [
    "cursor = conn.execute(\"\"\"\n",
    "   SELECT name \n",
    "     FROM sqlite_master\n",
    "    WHERE type='table';\n",
    "   \"\"\"\n",
    ")\n",
    "tables = cursor.fetchall()\n",
    "pprint(tables)"
   ]
  },
  {
   "cell_type": "code",
   "execution_count": 5,
   "id": "19754745-085a-401b-9a51-9bb4b23e4bce",
   "metadata": {},
   "outputs": [
    {
     "name": "stdout",
     "output_type": "stream",
     "text": [
      "[('CREATE TABLE [Orders](\\n'\n",
      "  '   [OrderID]INTEGER NOT NULL PRIMARY KEY AUTOINCREMENT,\\n'\n",
      "  '   [CustomerID]TEXT,\\n'\n",
      "  '   [EmployeeID]INTEGER,\\n'\n",
      "  '   [OrderDate]DATETIME,\\n'\n",
      "  '   [RequiredDate]DATETIME,\\n'\n",
      "  '   [ShippedDate]DATETIME,\\n'\n",
      "  '   [ShipVia]INTEGER,\\n'\n",
      "  '   [Freight]NUMERIC DEFAULT 0,\\n'\n",
      "  '   [ShipName]TEXT,\\n'\n",
      "  '   [ShipAddress]TEXT,\\n'\n",
      "  '   [ShipCity]TEXT,\\n'\n",
      "  '   [ShipRegion]TEXT,\\n'\n",
      "  '   [ShipPostalCode]TEXT,\\n'\n",
      "  '   [ShipCountry]TEXT,\\n'\n",
      "  '   FOREIGN KEY ([EmployeeID]) REFERENCES [Employees] ([EmployeeID]) \\n'\n",
      "  '\\t\\tON DELETE NO ACTION ON UPDATE NO ACTION,\\n'\n",
      "  '\\tFOREIGN KEY ([CustomerID]) REFERENCES [Customers] ([CustomerID]) \\n'\n",
      "  '\\t\\tON DELETE NO ACTION ON UPDATE NO ACTION,\\n'\n",
      "  '\\tFOREIGN KEY ([ShipVia]) REFERENCES [Shippers] ([ShipperID]) \\n'\n",
      "  '\\t\\tON DELETE NO ACTION ON UPDATE NO ACTION\\n'\n",
      "  ')',)]\n"
     ]
    }
   ],
   "source": [
    "cursor = conn.execute(\"\"\"\n",
    "   SELECT sql\n",
    "     FROM sqlite_master\n",
    "    WHERE type = 'table' \n",
    "      AND name = 'Orders'\n",
    "   \"\"\"\n",
    ")\n",
    "orders_schema = cursor.fetchall()\n",
    "pprint(orders_schema)"
   ]
  },
  {
   "cell_type": "code",
   "execution_count": 6,
   "id": "bf3a2eea-1833-43e7-ab06-9c466ca9b23f",
   "metadata": {},
   "outputs": [
    {
     "name": "stdout",
     "output_type": "stream",
     "text": [
      "\n",
      "row: (10248, 'VINET', 5, '2016-07-04', '2016-08-01', '2016-07-16', 3, 32.38, 'Vins et alcools Chevalier', '59 rue de l-Abbaye', 'Reims', 'Western Europe', '51100', 'France')\n",
      "\n",
      "row: (10249, 'TOMSP', 6, '2016-07-05', '2016-08-16', '2016-07-10', 1, 11.61, 'Toms Spezialitäten', 'Luisenstr. 48', 'Münster', 'Western Europe', '44087', 'Germany')\n",
      "\n",
      "row: (10250, 'HANAR', 4, '2016-07-08', '2016-08-05', '2016-07-12', 2, 65.83, 'Hanari Carnes', 'Rua do Paço, 67', 'Rio de Janeiro', 'South America', '05454-876', 'Brazil')\n",
      "\n",
      "row: (10251, 'VICTE', 3, '2016-07-08', '2016-08-05', '2016-07-15', 1, 41.34, 'Victuailles en stock', '2, rue du Commerce', 'Lyon', 'Western Europe', '69004', 'France')\n",
      "\n",
      "row: (10252, 'SUPRD', 4, '2016-07-09', '2016-08-06', '2016-07-11', 2, 51.3, 'Suprêmes délices', 'Boulevard Tirou, 255', 'Charleroi', 'Western Europe', 'B-6000', 'Belgium')\n"
     ]
    }
   ],
   "source": [
    "cursor = conn.execute(\"SELECT * from Orders limit 5;\")\n",
    "\n",
    "for row in cursor:\n",
    "   print(f\"\\nrow: {row}\")"
   ]
  },
  {
   "cell_type": "code",
   "execution_count": 7,
   "id": "3ae34639-a903-4e00-8484-3542f2799be0",
   "metadata": {},
   "outputs": [
    {
     "name": "stdout",
     "output_type": "stream",
     "text": [
      "row: (10248, 'VINET', '2016-07-04')\n",
      "row: (10249, 'TOMSP', '2016-07-05')\n",
      "row: (10250, 'HANAR', '2016-07-08')\n",
      "row: (10251, 'VICTE', '2016-07-08')\n",
      "row: (10252, 'SUPRD', '2016-07-09')\n"
     ]
    }
   ],
   "source": [
    "cursor = conn.execute(\"\"\"\n",
    "   SELECT OrderID,\n",
    "          CustomerID,\n",
    "          OrderDate\n",
    "     from Orders\n",
    "    limit 5;\n",
    "   \"\"\")\n",
    "\n",
    "for row in cursor:\n",
    "   print(f\"row: {row}\")"
   ]
  },
  {
   "cell_type": "code",
   "execution_count": 8,
   "id": "6ec22590-dcf3-4ad5-83f4-ebe8c6eae0ef",
   "metadata": {},
   "outputs": [],
   "source": [
    "conn.close()"
   ]
  },
  {
   "cell_type": "code",
   "execution_count": null,
   "id": "56e09a05-47ac-4711-9761-8cf08dc3aeeb",
   "metadata": {},
   "outputs": [],
   "source": []
  }
 ],
 "metadata": {
  "kernelspec": {
   "display_name": "Python 3 (ipykernel)",
   "language": "python",
   "name": "python3"
  },
  "language_info": {
   "codemirror_mode": {
    "name": "ipython",
    "version": 3
   },
   "file_extension": ".py",
   "mimetype": "text/x-python",
   "name": "python",
   "nbconvert_exporter": "python",
   "pygments_lexer": "ipython3",
   "version": "3.11.6"
  }
 },
 "nbformat": 4,
 "nbformat_minor": 5
}
