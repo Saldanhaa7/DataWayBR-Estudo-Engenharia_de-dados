{
 "cells": [
  {
   "cell_type": "code",
   "execution_count": 1,
   "id": "6cce8b60-6975-4b0b-a182-f07aa1dbd9c8",
   "metadata": {},
   "outputs": [],
   "source": [
    "import csv"
   ]
  },
  {
   "cell_type": "code",
   "execution_count": null,
   "id": "89afb211-ba64-4648-a50d-1140e6b0f4bd",
   "metadata": {},
   "outputs": [],
   "source": [
    "with open('./dados_csv/file_1.csv' ,'r') as arquivo_csv:\n",
    "    dados = csv.DictReader(arquivo_csv, delimiter = ',')\n",
    "    for linha in dados:\n",
    "        print(f\"valor: { linha }\")"
   ]
  },
  {
   "cell_type": "code",
   "execution_count": 5,
   "id": "ba6d9681-9fc4-4718-bbb9-1995bd84d324",
   "metadata": {},
   "outputs": [],
   "source": [
    "dados_paises = [\n",
    "    ['name', 'area', 'country_code2', 'country_code3'],\n",
    "    ['Brazil', 55, 'BR', 'BRA'],\n",
    "    ['Algeria', 2381741, 'DZ', 'DZA'],\n",
    "]"
   ]
  },
  {
   "cell_type": "code",
   "execution_count": 12,
   "id": "5e3e4368-9153-4e3f-b098-4b1cdabf67a9",
   "metadata": {},
   "outputs": [],
   "source": [
    "with open('./dados_csv/file2_.csv', 'w', encoding='UTF8') as arquivo_csv:\n",
    "    writer = csv.writer(arquivo_csv)\n",
    "    \n",
    "    writer.writerows(dados_paises)"
   ]
  },
  {
   "cell_type": "code",
   "execution_count": null,
   "id": "4a960194-8f3d-44f0-bca3-d642c1dcdf83",
   "metadata": {},
   "outputs": [],
   "source": []
  },
  {
   "cell_type": "code",
   "execution_count": null,
   "id": "692d2603-a680-4262-9846-265ecbc4f3a9",
   "metadata": {},
   "outputs": [],
   "source": []
  }
 ],
 "metadata": {
  "kernelspec": {
   "display_name": "Python 3 (ipykernel)",
   "language": "python",
   "name": "python3"
  },
  "language_info": {
   "codemirror_mode": {
    "name": "ipython",
    "version": 3
   },
   "file_extension": ".py",
   "mimetype": "text/x-python",
   "name": "python",
   "nbconvert_exporter": "python",
   "pygments_lexer": "ipython3",
   "version": "3.11.6"
  }
 },
 "nbformat": 4,
 "nbformat_minor": 5
}
