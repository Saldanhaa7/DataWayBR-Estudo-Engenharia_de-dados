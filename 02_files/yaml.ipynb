{
 "cells": [
  {
   "cell_type": "code",
   "execution_count": 1,
   "id": "09e9fdf6-bcdb-4620-ace7-aad9cfe82d96",
   "metadata": {},
   "outputs": [
    {
     "name": "stdout",
     "output_type": "stream",
     "text": [
      "Requirement already satisfied: pyyaml in /opt/conda/lib/python3.11/site-packages (6.0.1)\n"
     ]
    }
   ],
   "source": [
    "!pip install pyyaml"
   ]
  },
  {
   "cell_type": "code",
   "execution_count": 2,
   "id": "5d5a662e-54ad-46da-86f0-bfd550c638a3",
   "metadata": {},
   "outputs": [],
   "source": [
    "import yaml"
   ]
  },
  {
   "cell_type": "code",
   "execution_count": 4,
   "id": "74340f53-cef4-4dc7-ab02-dab7cd5aeed0",
   "metadata": {},
   "outputs": [
    {
     "name": "stdout",
     "output_type": "stream",
     "text": [
      "{'computador': {'monitor': 'LG-21\"', 'memoria': {'ram': '16gb'}, 'disco': {'ssd': '256gb', 'hdd': '1tb'}, 'cpu': {'model': 'ryzen 5600x'}}}\n"
     ]
    }
   ],
   "source": [
    "with open('./dados_yaml/file_1.yaml', 'r') as arquivo_yaml:\n",
    "    try:\n",
    "        dados = yaml.load(arquivo_yaml, Loader=yaml.FullLoader)\n",
    "        print(dados)\n",
    "    except Exception as erro:\n",
    "        print(f\"erro: {erro}\")"
   ]
  },
  {
   "cell_type": "code",
   "execution_count": 5,
   "id": "a2d90b51-3b32-4f11-ac15-812c3f2078cb",
   "metadata": {},
   "outputs": [],
   "source": [
    "dados = {\n",
    "    'list': [1, 42, 3.141, 1337, 'help'],\n",
    "    'string': 'bla',\n",
    "    'dict': {\n",
    "        'foo': 'bar',\n",
    "        'key': 'value',\n",
    "        'bar': 50\n",
    "    }\n",
    "}"
   ]
  },
  {
   "cell_type": "code",
   "execution_count": 6,
   "id": "2e02a987-a0fa-4045-909e-b070e61d4c0c",
   "metadata": {},
   "outputs": [],
   "source": [
    "with open('./dados_yaml/dados.yaml', 'w') as yaml_gravado:\n",
    "    yaml.dump(dados, yaml_gravado)"
   ]
  },
  {
   "cell_type": "code",
   "execution_count": null,
   "id": "0547e489-2e44-4e0f-8bc9-0fc7d7cfc370",
   "metadata": {},
   "outputs": [],
   "source": []
  }
 ],
 "metadata": {
  "kernelspec": {
   "display_name": "Python 3 (ipykernel)",
   "language": "python",
   "name": "python3"
  },
  "language_info": {
   "codemirror_mode": {
    "name": "ipython",
    "version": 3
   },
   "file_extension": ".py",
   "mimetype": "text/x-python",
   "name": "python",
   "nbconvert_exporter": "python",
   "pygments_lexer": "ipython3",
   "version": "3.11.6"
  }
 },
 "nbformat": 4,
 "nbformat_minor": 5
}
