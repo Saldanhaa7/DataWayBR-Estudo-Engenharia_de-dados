{
 "cells": [
  {
   "cell_type": "code",
   "execution_count": 12,
   "id": "2b3ff592-a4d2-4c93-8e24-ed4fe9dd35b0",
   "metadata": {},
   "outputs": [
    {
     "name": "stdout",
     "output_type": "stream",
     "text": [
      "Requirement already satisfied: dicttoxml in /opt/conda/lib/python3.11/site-packages (1.7.16)\n"
     ]
    }
   ],
   "source": [
    "!pip install dicttoxml\n",
    "import xml.etree.ElementTree as ET\n",
    "import dicttoxml"
   ]
  },
  {
   "cell_type": "code",
   "execution_count": 2,
   "id": "3f703fce-fa48-4785-bccd-3e45ba0c9754",
   "metadata": {},
   "outputs": [],
   "source": [
    "arvore = ET.parse('./dados_xml/file_1.xml')"
   ]
  },
  {
   "cell_type": "code",
   "execution_count": 3,
   "id": "79ef36aa-7ba1-4960-8298-0a1b760a0d3a",
   "metadata": {},
   "outputs": [],
   "source": [
    "raiz = arvore.getroot()"
   ]
  },
  {
   "cell_type": "code",
   "execution_count": 4,
   "id": "4ee731c0-7915-47f1-88e4-a5d7b11b2e2c",
   "metadata": {},
   "outputs": [
    {
     "data": {
      "text/plain": [
       "<Element 'data' at 0x7f48e04def20>"
      ]
     },
     "execution_count": 4,
     "metadata": {},
     "output_type": "execute_result"
    }
   ],
   "source": [
    "raiz"
   ]
  },
  {
   "cell_type": "code",
   "execution_count": 8,
   "id": "f2791fab-5a6c-4323-b311-54965204ae92",
   "metadata": {},
   "outputs": [
    {
     "name": "stdout",
     "output_type": "stream",
     "text": [
      "{'name': 'item1'}\n",
      "item1abc\n",
      "{'name': 'item2'}\n",
      "item2abc\n"
     ]
    }
   ],
   "source": [
    "for elemento in raiz:\n",
    "    for sub_elemento in elemento.findall('item'):\n",
    "        print(sub_elemento.attrib)\n",
    "        print(sub_elemento.text)"
   ]
  },
  {
   "cell_type": "code",
   "execution_count": 10,
   "id": "e9943e62-050b-49e4-9b3c-cd62efffa47e",
   "metadata": {},
   "outputs": [],
   "source": [
    "novo_piloto = {\n",
    "    'name': 'Bruno Saldanha',\n",
    "    'team': 'McLaren',\n",
    "    'nationality': 'Brazilian'\n",
    "}"
   ]
  },
  {
   "cell_type": "code",
   "execution_count": 14,
   "id": "41cbe0b5-4277-40d5-a8c7-e45d5ed2b34b",
   "metadata": {},
   "outputs": [],
   "source": [
    "xml = dicttoxml.dicttoxml(novo_piloto)"
   ]
  },
  {
   "cell_type": "code",
   "execution_count": 15,
   "id": "18e70846-2a55-4d75-a739-4b5a3ea84c22",
   "metadata": {},
   "outputs": [],
   "source": [
    "with open('./dados_xml/file_2.xml', 'w') as f:\n",
    "    f.write(str(xml, 'utf-8'))"
   ]
  },
  {
   "cell_type": "code",
   "execution_count": null,
   "id": "9387408d-005c-40bf-bdb7-4859e83c227b",
   "metadata": {},
   "outputs": [],
   "source": []
  }
 ],
 "metadata": {
  "kernelspec": {
   "display_name": "Python 3 (ipykernel)",
   "language": "python",
   "name": "python3"
  },
  "language_info": {
   "codemirror_mode": {
    "name": "ipython",
    "version": 3
   },
   "file_extension": ".py",
   "mimetype": "text/x-python",
   "name": "python",
   "nbconvert_exporter": "python",
   "pygments_lexer": "ipython3",
   "version": "3.11.6"
  }
 },
 "nbformat": 4,
 "nbformat_minor": 5
}
