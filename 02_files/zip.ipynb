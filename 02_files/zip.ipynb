{
 "cells": [
  {
   "cell_type": "code",
   "execution_count": 3,
   "id": "e2c57868-f49f-435d-be68-e7bd9b76e6d5",
   "metadata": {},
   "outputs": [],
   "source": [
    "import zipfile"
   ]
  },
  {
   "cell_type": "code",
   "execution_count": 5,
   "id": "30172f60-a11a-414d-80ef-eac649661263",
   "metadata": {},
   "outputs": [],
   "source": [
    "with zipfile.ZipFile('./dados_zip/files_1.zip') as zipp:\n",
    "    zipp.extractall('./dados_zip/unzip')"
   ]
  },
  {
   "cell_type": "code",
   "execution_count": 6,
   "id": "38c6ec54-32e9-4f24-84d5-e1c2afb32503",
   "metadata": {},
   "outputs": [],
   "source": [
    "import shutil"
   ]
  },
  {
   "cell_type": "code",
   "execution_count": 8,
   "id": "5ddc56f2-783c-4fed-aefc-325390cd9e29",
   "metadata": {},
   "outputs": [
    {
     "data": {
      "text/plain": [
       "'/home/jovyan/work/02_files/dados_zip/pasta_zipada.zip'"
      ]
     },
     "execution_count": 8,
     "metadata": {},
     "output_type": "execute_result"
    }
   ],
   "source": [
    "# Destino, Formato, Pasta (conteúdo a ser zipado)\n",
    "shutil.make_archive('./dados_zip/pasta_zipada', 'zip', './dados_zip/to_zip')"
   ]
  },
  {
   "cell_type": "code",
   "execution_count": null,
   "id": "f47f9180-6ab8-42c7-9281-86ebde1a1f33",
   "metadata": {},
   "outputs": [],
   "source": []
  }
 ],
 "metadata": {
  "kernelspec": {
   "display_name": "Python 3 (ipykernel)",
   "language": "python",
   "name": "python3"
  },
  "language_info": {
   "codemirror_mode": {
    "name": "ipython",
    "version": 3
   },
   "file_extension": ".py",
   "mimetype": "text/x-python",
   "name": "python",
   "nbconvert_exporter": "python",
   "pygments_lexer": "ipython3",
   "version": "3.11.6"
  }
 },
 "nbformat": 4,
 "nbformat_minor": 5
}
