{
 "cells": [
  {
   "cell_type": "code",
   "execution_count": 1,
   "id": "556b51d2-3c93-454a-9b59-60bc640e6864",
   "metadata": {},
   "outputs": [
    {
     "name": "stdout",
     "output_type": "stream",
     "text": [
      "example of txt file\n"
     ]
    }
   ],
   "source": [
    "with open('./dados_txt/file_1.txt', 'r') as arquivo:\n",
    "    conteudo = arquivo.read()\n",
    "    print(conteudo)"
   ]
  },
  {
   "cell_type": "code",
   "execution_count": 6,
   "id": "ef0a3521-ec01-4bb6-8aa8-e78f8c6405e4",
   "metadata": {},
   "outputs": [
    {
     "name": "stdout",
     "output_type": "stream",
     "text": [
      "PYTHON\n",
      "IS\n",
      "AWESOME\n"
     ]
    }
   ],
   "source": [
    "with open('./dados_txt/file_2.txt', 'r') as arquivo_multilinha:\n",
    "    conteudo_multilinha = arquivo_multilinha.read().splitlines()\n",
    "\n",
    "    for linha in conteudo_multilinha:\n",
    "        print(linha.upper())"
   ]
  },
  {
   "cell_type": "code",
   "execution_count": 9,
   "id": "cfc19234-2b31-4c27-b700-3e341ddd8db6",
   "metadata": {},
   "outputs": [],
   "source": [
    "with open('./dados_txt/file_3.txt', 'w') as arquivo_3:\n",
    "    arquivo_3.write('Hello \\n World!')"
   ]
  },
  {
   "cell_type": "code",
   "execution_count": null,
   "id": "743bad22-ca89-44e4-bbd0-a72f48d1c057",
   "metadata": {},
   "outputs": [],
   "source": []
  }
 ],
 "metadata": {
  "kernelspec": {
   "display_name": "Python 3 (ipykernel)",
   "language": "python",
   "name": "python3"
  },
  "language_info": {
   "codemirror_mode": {
    "name": "ipython",
    "version": 3
   },
   "file_extension": ".py",
   "mimetype": "text/x-python",
   "name": "python",
   "nbconvert_exporter": "python",
   "pygments_lexer": "ipython3",
   "version": "3.11.6"
  }
 },
 "nbformat": 4,
 "nbformat_minor": 5
}
