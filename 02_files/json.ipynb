{
 "cells": [
  {
   "cell_type": "code",
   "execution_count": 1,
   "id": "77bd2d77-d055-493e-8763-8847b56355da",
   "metadata": {},
   "outputs": [],
   "source": [
    "import json"
   ]
  },
  {
   "cell_type": "code",
   "execution_count": 2,
   "id": "99a08496-1984-4d26-a000-13220850da78",
   "metadata": {},
   "outputs": [],
   "source": [
    "with open('./dados_json/file_1.json', 'r') as arquivo_json1:\n",
    "    dados = json.load(arquivo_json1)"
   ]
  },
  {
   "cell_type": "code",
   "execution_count": 3,
   "id": "205d26fb-ab93-4a08-9150-c20f664bc8c8",
   "metadata": {},
   "outputs": [
    {
     "data": {
      "text/plain": [
       "dict"
      ]
     },
     "execution_count": 3,
     "metadata": {},
     "output_type": "execute_result"
    }
   ],
   "source": [
    "type(dados)"
   ]
  },
  {
   "cell_type": "code",
   "execution_count": 4,
   "id": "d9ee7222-450f-43ea-aa29-45b60a62aa9b",
   "metadata": {},
   "outputs": [
    {
     "data": {
      "text/plain": [
       "{'season': 2024,\n",
       " 'current': 'yes',\n",
       " 'pilots': [{'name': 'Lewis Hamilton',\n",
       "   'team': 'Mercedes',\n",
       "   'nationality': 'British'},\n",
       "  {'name': 'Max Verstappen',\n",
       "   'team': 'Red Bull Racing',\n",
       "   'nationality': 'Dutch'},\n",
       "  {'name': 'Charles Leclerc', 'team': 'Ferrari', 'nationality': 'Monégasque'}]}"
      ]
     },
     "execution_count": 4,
     "metadata": {},
     "output_type": "execute_result"
    }
   ],
   "source": [
    "dados"
   ]
  },
  {
   "cell_type": "code",
   "execution_count": 5,
   "id": "4537733f-1c35-425a-908d-24d43f61c02c",
   "metadata": {},
   "outputs": [],
   "source": [
    "temporada = dados.get('season')"
   ]
  },
  {
   "cell_type": "code",
   "execution_count": 6,
   "id": "d8e4edbc-7383-41af-8bc6-6760cfffe5bd",
   "metadata": {},
   "outputs": [
    {
     "data": {
      "text/plain": [
       "2024"
      ]
     },
     "execution_count": 6,
     "metadata": {},
     "output_type": "execute_result"
    }
   ],
   "source": [
    "temporada"
   ]
  },
  {
   "cell_type": "code",
   "execution_count": 7,
   "id": "812f9b4f-d4be-48ef-8688-cbe3c418f01e",
   "metadata": {},
   "outputs": [],
   "source": [
    "pilotos = dados.get('pilots')"
   ]
  },
  {
   "cell_type": "code",
   "execution_count": 8,
   "id": "331a5541-29bc-434c-92ca-4fe5905ecde7",
   "metadata": {},
   "outputs": [
    {
     "data": {
      "text/plain": [
       "[{'name': 'Lewis Hamilton', 'team': 'Mercedes', 'nationality': 'British'},\n",
       " {'name': 'Max Verstappen', 'team': 'Red Bull Racing', 'nationality': 'Dutch'},\n",
       " {'name': 'Charles Leclerc', 'team': 'Ferrari', 'nationality': 'Monégasque'}]"
      ]
     },
     "execution_count": 8,
     "metadata": {},
     "output_type": "execute_result"
    }
   ],
   "source": [
    "pilotos"
   ]
  },
  {
   "cell_type": "code",
   "execution_count": 10,
   "id": "c8cfff9b-1ef1-455c-bcc0-c3d610facc42",
   "metadata": {},
   "outputs": [],
   "source": [
    "novo_piloto = {\n",
    "    'name': 'Bruno Saldanha',\n",
    "    'team': 'McLaren',\n",
    "    'nationality': 'Brazilian'\n",
    "}"
   ]
  },
  {
   "cell_type": "code",
   "execution_count": 11,
   "id": "a4d7a99c-e101-4564-972b-6a9d564e1541",
   "metadata": {},
   "outputs": [],
   "source": [
    "with open('./dados_json/novo_piloto.json', 'w') as arquivo_json2:\n",
    "    json.dump(novo_piloto, arquivo_json2)"
   ]
  },
  {
   "cell_type": "code",
   "execution_count": null,
   "id": "a54f9592-03ff-47c9-a21e-a103e0979b79",
   "metadata": {},
   "outputs": [],
   "source": []
  }
 ],
 "metadata": {
  "kernelspec": {
   "display_name": "Python 3 (ipykernel)",
   "language": "python",
   "name": "python3"
  },
  "language_info": {
   "codemirror_mode": {
    "name": "ipython",
    "version": 3
   },
   "file_extension": ".py",
   "mimetype": "text/x-python",
   "name": "python",
   "nbconvert_exporter": "python",
   "pygments_lexer": "ipython3",
   "version": "3.11.6"
  }
 },
 "nbformat": 4,
 "nbformat_minor": 5
}
