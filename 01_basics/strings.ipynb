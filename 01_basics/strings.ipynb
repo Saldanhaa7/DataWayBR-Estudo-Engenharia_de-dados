{
 "cells": [
  {
   "cell_type": "code",
   "execution_count": 2,
   "id": "019899f1-531b-4b75-9ff7-ad49716031f0",
   "metadata": {},
   "outputs": [],
   "source": [
    "nome = 'Bob'"
   ]
  },
  {
   "cell_type": "code",
   "execution_count": 4,
   "id": "38ca4f69-8e46-438b-847e-40aab94e95a9",
   "metadata": {},
   "outputs": [],
   "source": [
    "idade = 20"
   ]
  },
  {
   "cell_type": "code",
   "execution_count": 8,
   "id": "9a7cf0ce-241a-4c85-bf8c-dab39eda6ef4",
   "metadata": {},
   "outputs": [],
   "source": [
    "# format\n",
    "frase_format = \"Olá, meu nome é: {} e tenho {} anos\".format(nome, idade)"
   ]
  },
  {
   "cell_type": "code",
   "execution_count": 9,
   "id": "2fbd22d5-3b2a-463d-aab3-941ce86743ff",
   "metadata": {},
   "outputs": [
    {
     "data": {
      "text/plain": [
       "'Olá, meu nome é: Bob e tenho 20 anos'"
      ]
     },
     "execution_count": 9,
     "metadata": {},
     "output_type": "execute_result"
    }
   ],
   "source": [
    "frase_format"
   ]
  },
  {
   "cell_type": "code",
   "execution_count": 28,
   "id": "3b364743-46b0-4b43-a0c4-08a467a1db82",
   "metadata": {},
   "outputs": [],
   "source": [
    "frase_f_strings = f\"Olá, meu nome é: {nome}, tenho {idade} anos\""
   ]
  },
  {
   "cell_type": "code",
   "execution_count": 11,
   "id": "bc5b92fe-66b9-4225-a70d-978af5f52180",
   "metadata": {
    "scrolled": true
   },
   "outputs": [
    {
     "data": {
      "text/plain": [
       "'Olá, meu nome é: Bob e tenho 20 anos'"
      ]
     },
     "execution_count": 11,
     "metadata": {},
     "output_type": "execute_result"
    }
   ],
   "source": [
    "frase_f_strings"
   ]
  },
  {
   "cell_type": "code",
   "execution_count": 22,
   "id": "63237d86-0595-45af-ab8f-ed3a6a52f8af",
   "metadata": {},
   "outputs": [],
   "source": [
    "sql = f\"\"\"\"\n",
    "  select *\n",
    "   from tabela\n",
    "   where nome = { nome }\n",
    "\"\"\""
   ]
  },
  {
   "cell_type": "code",
   "execution_count": 23,
   "id": "76999e97-318d-4bdc-af91-d8244ff2ff41",
   "metadata": {},
   "outputs": [
    {
     "data": {
      "text/plain": [
       "'\"\\n  select *\\n   from tabela\\n   where nome = Bob\\n'"
      ]
     },
     "execution_count": 23,
     "metadata": {},
     "output_type": "execute_result"
    }
   ],
   "source": [
    "sql"
   ]
  },
  {
   "cell_type": "code",
   "execution_count": 24,
   "id": "51e43164-7230-4e82-9e08-08642e5c0254",
   "metadata": {},
   "outputs": [],
   "source": [
    "frase_upper = frase_f_strings.upper()"
   ]
  },
  {
   "cell_type": "code",
   "execution_count": 25,
   "id": "8ef5e70a-cad9-455c-b962-072b1b7a08f3",
   "metadata": {},
   "outputs": [
    {
     "data": {
      "text/plain": [
       "'OLÁ, MEU NOME É: BOB E TENHO 20 ANOS'"
      ]
     },
     "execution_count": 25,
     "metadata": {},
     "output_type": "execute_result"
    }
   ],
   "source": [
    "frase_upper"
   ]
  },
  {
   "cell_type": "code",
   "execution_count": 26,
   "id": "d3dd2d44-af1d-4e81-9a80-35b389ddf2d0",
   "metadata": {},
   "outputs": [],
   "source": [
    "frase_lower = frase_f_strings.lower()"
   ]
  },
  {
   "cell_type": "code",
   "execution_count": 27,
   "id": "83a250e5-530f-4b72-bf71-ec03a551f04d",
   "metadata": {},
   "outputs": [
    {
     "data": {
      "text/plain": [
       "'olá, meu nome é: bob e tenho 20 anos'"
      ]
     },
     "execution_count": 27,
     "metadata": {},
     "output_type": "execute_result"
    }
   ],
   "source": [
    "frase_lower"
   ]
  },
  {
   "cell_type": "code",
   "execution_count": 33,
   "id": "31a0bc5e-5df7-418b-b1de-88feebe45f65",
   "metadata": {},
   "outputs": [],
   "source": [
    "# split\n",
    "frase_split = frase_f_strings.split(\",\")"
   ]
  },
  {
   "cell_type": "code",
   "execution_count": 34,
   "id": "87167513-1782-44d3-b345-838ad2da917d",
   "metadata": {},
   "outputs": [
    {
     "data": {
      "text/plain": [
       "['Olá', ' meu nome é: Bob', ' tenho 20 anos']"
      ]
     },
     "execution_count": 34,
     "metadata": {},
     "output_type": "execute_result"
    }
   ],
   "source": [
    "frase_split"
   ]
  },
  {
   "cell_type": "code",
   "execution_count": 35,
   "id": "18e38e54-10d7-4976-907e-0dec561b68b8",
   "metadata": {},
   "outputs": [],
   "source": [
    "# length\n",
    "frase_length = len(frase_f_strings)"
   ]
  },
  {
   "cell_type": "code",
   "execution_count": 36,
   "id": "f34470b0-5784-44d5-a494-bfedde471a4c",
   "metadata": {},
   "outputs": [
    {
     "data": {
      "text/plain": [
       "35"
      ]
     },
     "execution_count": 36,
     "metadata": {},
     "output_type": "execute_result"
    }
   ],
   "source": [
    "frase_length"
   ]
  },
  {
   "cell_type": "code",
   "execution_count": 37,
   "id": "1663ec74-75f5-466d-bb4c-b15845c1d5ee",
   "metadata": {},
   "outputs": [],
   "source": [
    "# join\n",
    "frase_join = \"\".join(frase_split)"
   ]
  },
  {
   "cell_type": "code",
   "execution_count": 38,
   "id": "9fc9ae01-3308-4a02-a632-545f40adf8bc",
   "metadata": {},
   "outputs": [
    {
     "data": {
      "text/plain": [
       "'Olá meu nome é: Bob tenho 20 anos'"
      ]
     },
     "execution_count": 38,
     "metadata": {},
     "output_type": "execute_result"
    }
   ],
   "source": [
    "frase_join"
   ]
  },
  {
   "cell_type": "code",
   "execution_count": 44,
   "id": "16db3315-6f17-4f89-9c0c-f25eebd8436a",
   "metadata": {},
   "outputs": [],
   "source": [
    "# Start ou endwith\n",
    "comeca_com_ola = frase_join.startswith(\"Olá minha\")"
   ]
  },
  {
   "cell_type": "code",
   "execution_count": 45,
   "id": "267b6049-133f-4e94-a444-8d5fc8fb28ca",
   "metadata": {},
   "outputs": [
    {
     "data": {
      "text/plain": [
       "False"
      ]
     },
     "execution_count": 45,
     "metadata": {},
     "output_type": "execute_result"
    }
   ],
   "source": [
    "comeca_com_ola"
   ]
  },
  {
   "cell_type": "code",
   "execution_count": 49,
   "id": "a2b6c75d-8ac5-4e7e-b966-9a60b6c86dca",
   "metadata": {},
   "outputs": [],
   "source": [
    "# contains\n",
    "contem_bob = 'Bob' in frase_join"
   ]
  },
  {
   "cell_type": "code",
   "execution_count": 50,
   "id": "df2a0bf8-e50e-4304-a789-2647f97fb2dc",
   "metadata": {},
   "outputs": [
    {
     "data": {
      "text/plain": [
       "True"
      ]
     },
     "execution_count": 50,
     "metadata": {},
     "output_type": "execute_result"
    }
   ],
   "source": [
    "contem_bob"
   ]
  },
  {
   "cell_type": "code",
   "execution_count": null,
   "id": "3edcc487-39f8-4c03-8e6a-be51d60c6a7a",
   "metadata": {},
   "outputs": [],
   "source": []
  }
 ],
 "metadata": {
  "kernelspec": {
   "display_name": "Python 3 (ipykernel)",
   "language": "python",
   "name": "python3"
  },
  "language_info": {
   "codemirror_mode": {
    "name": "ipython",
    "version": 3
   },
   "file_extension": ".py",
   "mimetype": "text/x-python",
   "name": "python",
   "nbconvert_exporter": "python",
   "pygments_lexer": "ipython3",
   "version": "3.11.6"
  }
 },
 "nbformat": 4,
 "nbformat_minor": 5
}
