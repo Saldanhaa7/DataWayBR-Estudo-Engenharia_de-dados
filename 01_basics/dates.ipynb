{
 "cells": [
  {
   "cell_type": "code",
   "execution_count": 1,
   "id": "9e403d66-01fe-48a2-8ad2-d06ab9b105de",
   "metadata": {},
   "outputs": [],
   "source": [
    "import datetime"
   ]
  },
  {
   "cell_type": "code",
   "execution_count": 3,
   "id": "aed8a5df-3d67-4c4b-93ea-213f5240d5c5",
   "metadata": {},
   "outputs": [],
   "source": [
    "# date\n",
    "data = datetime.date(2024,1,20)"
   ]
  },
  {
   "cell_type": "code",
   "execution_count": 4,
   "id": "6c777c7c-f08c-4959-b349-a7123a94961b",
   "metadata": {},
   "outputs": [
    {
     "data": {
      "text/plain": [
       "datetime.date(2024, 1, 20)"
      ]
     },
     "execution_count": 4,
     "metadata": {},
     "output_type": "execute_result"
    }
   ],
   "source": [
    "data"
   ]
  },
  {
   "cell_type": "code",
   "execution_count": 5,
   "id": "5f58c32f-8cd2-4078-8777-d8352ccb4a02",
   "metadata": {},
   "outputs": [],
   "source": [
    "datahora = datetime.datetime(2024,1,20,18,18,45)"
   ]
  },
  {
   "cell_type": "code",
   "execution_count": 6,
   "id": "5e975c66-9f4d-4e34-ae21-0b7df71afca0",
   "metadata": {},
   "outputs": [
    {
     "data": {
      "text/plain": [
       "datetime.datetime(2024, 1, 20, 18, 18, 45)"
      ]
     },
     "execution_count": 6,
     "metadata": {},
     "output_type": "execute_result"
    }
   ],
   "source": [
    "datahora"
   ]
  },
  {
   "cell_type": "code",
   "execution_count": 8,
   "id": "f052765b-08ff-42e3-baea-109ff9dbd571",
   "metadata": {},
   "outputs": [],
   "source": [
    "# today\n",
    "data_atual= datetime.date.today()"
   ]
  },
  {
   "cell_type": "code",
   "execution_count": 9,
   "id": "5bcae87e-c149-4e32-b9fa-7c8ec7a0e6e0",
   "metadata": {},
   "outputs": [
    {
     "data": {
      "text/plain": [
       "datetime.date(2024, 1, 20)"
      ]
     },
     "execution_count": 9,
     "metadata": {},
     "output_type": "execute_result"
    }
   ],
   "source": [
    "data_atual"
   ]
  },
  {
   "cell_type": "code",
   "execution_count": 11,
   "id": "6fa4ae78-489e-4c8b-9824-c7b9c61d7af3",
   "metadata": {},
   "outputs": [],
   "source": [
    "# datetime\n",
    "agora = datetime.datetime.now()"
   ]
  },
  {
   "cell_type": "code",
   "execution_count": 12,
   "id": "aaf0d3a2-e7be-4871-9095-e607ae3fb6ba",
   "metadata": {},
   "outputs": [
    {
     "data": {
      "text/plain": [
       "datetime.datetime(2024, 1, 20, 21, 21, 1, 25053)"
      ]
     },
     "execution_count": 12,
     "metadata": {},
     "output_type": "execute_result"
    }
   ],
   "source": [
    "agora"
   ]
  },
  {
   "cell_type": "code",
   "execution_count": 13,
   "id": "c325677f-73af-4d72-b6c3-7c66275ef91b",
   "metadata": {},
   "outputs": [],
   "source": [
    "frase = f\"agora são: {agora}\""
   ]
  },
  {
   "cell_type": "code",
   "execution_count": 14,
   "id": "a0c3ce56-cb76-4f95-85eb-9a132ebc4860",
   "metadata": {},
   "outputs": [
    {
     "data": {
      "text/plain": [
       "'agora são: 2024-01-20 21:21:01.025053'"
      ]
     },
     "execution_count": 14,
     "metadata": {},
     "output_type": "execute_result"
    }
   ],
   "source": [
    "frase"
   ]
  },
  {
   "cell_type": "code",
   "execution_count": 17,
   "id": "212f8794-a164-4100-846f-2aa8b5097c50",
   "metadata": {},
   "outputs": [],
   "source": [
    "# formatar uma data como string\n",
    "agora_formatado = agora.strftime('%d/%m/%Y')"
   ]
  },
  {
   "cell_type": "code",
   "execution_count": 18,
   "id": "9f529615-7160-4334-9597-f04f5724b3a8",
   "metadata": {},
   "outputs": [
    {
     "data": {
      "text/plain": [
       "'20/01/2024'"
      ]
     },
     "execution_count": 18,
     "metadata": {},
     "output_type": "execute_result"
    }
   ],
   "source": [
    "agora_formatado"
   ]
  },
  {
   "cell_type": "code",
   "execution_count": 22,
   "id": "60f3a284-eeec-4c72-a400-989b6eef07d0",
   "metadata": {},
   "outputs": [],
   "source": [
    "# strptime\n",
    "from datetime import datetime as dt\n",
    "agora_formatado_date = dt.strptime(agora_formatado, '%d/%m/%Y')"
   ]
  },
  {
   "cell_type": "code",
   "execution_count": 23,
   "id": "f102c037-4877-40ff-9d36-fb9233e64b10",
   "metadata": {},
   "outputs": [
    {
     "data": {
      "text/plain": [
       "datetime.datetime(2024, 1, 20, 0, 0)"
      ]
     },
     "execution_count": 23,
     "metadata": {},
     "output_type": "execute_result"
    }
   ],
   "source": [
    "agora_formatado_date"
   ]
  },
  {
   "cell_type": "code",
   "execution_count": 24,
   "id": "12715eca-b193-4021-9829-b6812a149686",
   "metadata": {},
   "outputs": [
    {
     "data": {
      "text/plain": [
       "datetime.datetime(2024, 1, 20, 21, 21, 1, 25053)"
      ]
     },
     "execution_count": 24,
     "metadata": {},
     "output_type": "execute_result"
    }
   ],
   "source": [
    "agora"
   ]
  },
  {
   "cell_type": "code",
   "execution_count": 25,
   "id": "86d7ae83-39d9-49f7-981e-a717952dedff",
   "metadata": {},
   "outputs": [],
   "source": [
    "agora_mais_sete = agora + datetime.timedelta(days=7)"
   ]
  },
  {
   "cell_type": "code",
   "execution_count": 26,
   "id": "e43582a9-9151-4374-9743-fff9b19f87a2",
   "metadata": {},
   "outputs": [
    {
     "data": {
      "text/plain": [
       "datetime.datetime(2024, 1, 27, 21, 21, 1, 25053)"
      ]
     },
     "execution_count": 26,
     "metadata": {},
     "output_type": "execute_result"
    }
   ],
   "source": [
    "agora_mais_sete"
   ]
  },
  {
   "cell_type": "code",
   "execution_count": 27,
   "id": "e03de7b7-0952-48a4-8a56-a6c9b9ee8c67",
   "metadata": {},
   "outputs": [],
   "source": [
    "agora_mais_uma_hora = agora + datetime.timedelta(hours=1)"
   ]
  },
  {
   "cell_type": "code",
   "execution_count": 28,
   "id": "4101a5e0-cbf5-4e10-aa78-cd3dc1f7afcc",
   "metadata": {},
   "outputs": [
    {
     "data": {
      "text/plain": [
       "datetime.datetime(2024, 1, 20, 22, 21, 1, 25053)"
      ]
     },
     "execution_count": 28,
     "metadata": {},
     "output_type": "execute_result"
    }
   ],
   "source": [
    "agora_mais_uma_hora"
   ]
  },
  {
   "cell_type": "code",
   "execution_count": 30,
   "id": "8a2c54c5-dabb-44f3-af4e-880b9078bc18",
   "metadata": {},
   "outputs": [
    {
     "name": "stdout",
     "output_type": "stream",
     "text": [
      "True\n"
     ]
    }
   ],
   "source": [
    "print(agora_mais_sete > agora_mais_uma_hora)"
   ]
  },
  {
   "cell_type": "code",
   "execution_count": null,
   "id": "d8d545e0-34df-489c-b748-006db44eb323",
   "metadata": {},
   "outputs": [],
   "source": []
  }
 ],
 "metadata": {
  "kernelspec": {
   "display_name": "Python 3 (ipykernel)",
   "language": "python",
   "name": "python3"
  },
  "language_info": {
   "codemirror_mode": {
    "name": "ipython",
    "version": 3
   },
   "file_extension": ".py",
   "mimetype": "text/x-python",
   "name": "python",
   "nbconvert_exporter": "python",
   "pygments_lexer": "ipython3",
   "version": "3.11.6"
  }
 },
 "nbformat": 4,
 "nbformat_minor": 5
}
