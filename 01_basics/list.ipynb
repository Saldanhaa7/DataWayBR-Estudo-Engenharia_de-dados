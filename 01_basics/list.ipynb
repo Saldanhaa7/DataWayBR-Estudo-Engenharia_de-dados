{
 "cells": [
  {
   "cell_type": "code",
   "execution_count": 1,
   "id": "f665aa2b-4aaa-43f1-9e6a-1cd11d827ded",
   "metadata": {},
   "outputs": [],
   "source": [
    "# list comprehension"
   ]
  },
  {
   "cell_type": "code",
   "execution_count": 2,
   "id": "f46f15c2-b861-4fd3-abaf-3b526d044e35",
   "metadata": {},
   "outputs": [],
   "source": [
    "numeros = [1,2,3,4,5,6]"
   ]
  },
  {
   "cell_type": "code",
   "execution_count": 3,
   "id": "9642f8a2-6260-48b7-be2d-6d7ab2936eda",
   "metadata": {},
   "outputs": [
    {
     "data": {
      "text/plain": [
       "[1, 2, 3, 4, 5, 6]"
      ]
     },
     "execution_count": 3,
     "metadata": {},
     "output_type": "execute_result"
    }
   ],
   "source": [
    "numeros"
   ]
  },
  {
   "cell_type": "code",
   "execution_count": 5,
   "id": "1e2a6b0f-a5ef-4f42-8690-b06d0728274a",
   "metadata": {},
   "outputs": [],
   "source": [
    "numeros_ao_quadrado = []"
   ]
  },
  {
   "cell_type": "code",
   "execution_count": 8,
   "id": "5c92617f-2543-4612-b379-cebf87889b15",
   "metadata": {},
   "outputs": [],
   "source": [
    "for numero in numeros:\n",
    "    resultado = numero ** 2\n",
    "    numeros_ao_quadrado.append(resultado)"
   ]
  },
  {
   "cell_type": "code",
   "execution_count": 9,
   "id": "673f7505-c95e-47bc-8e5e-934d86ff68d1",
   "metadata": {},
   "outputs": [
    {
     "data": {
      "text/plain": [
       "[1, 4, 9, 16, 25, 36]"
      ]
     },
     "execution_count": 9,
     "metadata": {},
     "output_type": "execute_result"
    }
   ],
   "source": [
    "numeros_ao_quadrado"
   ]
  },
  {
   "cell_type": "code",
   "execution_count": 11,
   "id": "093fc043-34f0-457e-a0c1-af8f171c8a25",
   "metadata": {},
   "outputs": [],
   "source": [
    "numeros_ao_quadrado_comprehesion = [ numero ** 2 for numero in numeros ]"
   ]
  },
  {
   "cell_type": "code",
   "execution_count": 12,
   "id": "4b19dce3-946b-4fd0-baf9-a1fa2a2c1328",
   "metadata": {},
   "outputs": [
    {
     "data": {
      "text/plain": [
       "[1, 4, 9, 16, 25, 36]"
      ]
     },
     "execution_count": 12,
     "metadata": {},
     "output_type": "execute_result"
    }
   ],
   "source": [
    "numeros_ao_quadrado_comprehesion"
   ]
  },
  {
   "cell_type": "code",
   "execution_count": null,
   "id": "c3511e9e-13ab-419f-ac2c-7d146ea1b2d9",
   "metadata": {},
   "outputs": [],
   "source": []
  }
 ],
 "metadata": {
  "kernelspec": {
   "display_name": "Python 3 (ipykernel)",
   "language": "python",
   "name": "python3"
  },
  "language_info": {
   "codemirror_mode": {
    "name": "ipython",
    "version": 3
   },
   "file_extension": ".py",
   "mimetype": "text/x-python",
   "name": "python",
   "nbconvert_exporter": "python",
   "pygments_lexer": "ipython3",
   "version": "3.11.6"
  }
 },
 "nbformat": 4,
 "nbformat_minor": 5
}
