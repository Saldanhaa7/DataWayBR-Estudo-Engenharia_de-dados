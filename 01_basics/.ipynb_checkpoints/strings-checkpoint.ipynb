{
 "cells": [
  {
   "cell_type": "code",
   "execution_count": 2,
   "id": "019899f1-531b-4b75-9ff7-ad49716031f0",
   "metadata": {},
   "outputs": [],
   "source": [
    "nome = 'Bob'"
   ]
  },
  {
   "cell_type": "code",
   "execution_count": 4,
   "id": "38ca4f69-8e46-438b-847e-40aab94e95a9",
   "metadata": {},
   "outputs": [],
   "source": [
    "idade = 20"
   ]
  },
  {
   "cell_type": "code",
   "execution_count": 8,
   "id": "9a7cf0ce-241a-4c85-bf8c-dab39eda6ef4",
   "metadata": {},
   "outputs": [],
   "source": [
    "# format\n",
    "frase_format = \"Olá, meu nome é: {} e tenho {} anos\".format(nome, idade)"
   ]
  },
  {
   "cell_type": "code",
   "execution_count": 9,
   "id": "2fbd22d5-3b2a-463d-aab3-941ce86743ff",
   "metadata": {},
   "outputs": [
    {
     "data": {
      "text/plain": [
       "'Olá, meu nome é: Bob e tenho 20 anos'"
      ]
     },
     "execution_count": 9,
     "metadata": {},
     "output_type": "execute_result"
    }
   ],
   "source": [
    "frase_format"
   ]
  },
  {
   "cell_type": "code",
   "execution_count": 10,
   "id": "3b364743-46b0-4b43-a0c4-08a467a1db82",
   "metadata": {},
   "outputs": [],
   "source": [
    "frase_f_strings = f\"Olá, meu nome é: {nome} e tenho {idade} anos\""
   ]
  },
  {
   "cell_type": "code",
   "execution_count": 11,
   "id": "bc5b92fe-66b9-4225-a70d-978af5f52180",
   "metadata": {},
   "outputs": [
    {
     "data": {
      "text/plain": [
       "'Olá, meu nome é: Bob e tenho 20 anos'"
      ]
     },
     "execution_count": 11,
     "metadata": {},
     "output_type": "execute_result"
    }
   ],
   "source": [
    "frase_f_strings"
   ]
  },
  {
   "cell_type": "code",
   "execution_count": 13,
   "id": "ca4b65ba-8737-4be2-85ee-9cd068e75e2a",
   "metadata": {},
   "outputs": [],
   "source": [
    "sql = f\"\"\"\n",
    "select * from tabela where nome = {nome}\n",
    "\"\"\""
   ]
  },
  {
   "cell_type": "code",
   "execution_count": 19,
   "id": "0ab2128b-0860-40ac-b9a3-4683b9cfb857",
   "metadata": {},
   "outputs": [
    {
     "data": {
      "text/plain": [
       "'\\n    select *\\n'"
      ]
     },
     "execution_count": 19,
     "metadata": {},
     "output_type": "execute_result"
    }
   ],
   "source": [
    "sql"
   ]
  },
  {
   "cell_type": "code",
   "execution_count": null,
   "id": "63237d86-0595-45af-ab8f-ed3a6a52f8af",
   "metadata": {},
   "outputs": [],
   "source": []
  }
 ],
 "metadata": {
  "kernelspec": {
   "display_name": "Python 3 (ipykernel)",
   "language": "python",
   "name": "python3"
  },
  "language_info": {
   "codemirror_mode": {
    "name": "ipython",
    "version": 3
   },
   "file_extension": ".py",
   "mimetype": "text/x-python",
   "name": "python",
   "nbconvert_exporter": "python",
   "pygments_lexer": "ipython3",
   "version": "3.11.6"
  }
 },
 "nbformat": 4,
 "nbformat_minor": 5
}
