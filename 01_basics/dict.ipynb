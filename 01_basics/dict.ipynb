{
 "cells": [
  {
   "cell_type": "code",
   "execution_count": 2,
   "id": "0440f8e9-e729-46cc-9230-36625c5e7735",
   "metadata": {},
   "outputs": [],
   "source": [
    "# dict comprehension"
   ]
  },
  {
   "cell_type": "code",
   "execution_count": 3,
   "id": "b0e90aaf-a519-445e-8260-2f078179a23d",
   "metadata": {},
   "outputs": [],
   "source": [
    "piloto = {\n",
    "    'classe': 'formula 1',\n",
    "    'nome': 'Bruno Saldanha',\n",
    "    'nacionalidade': 'Brasileiro',\n",
    "    'equipe': 'Ferrari'\n",
    "}"
   ]
  },
  {
   "cell_type": "code",
   "execution_count": 6,
   "id": "a3cb4190-9229-441f-8557-0439d1cd39b1",
   "metadata": {},
   "outputs": [],
   "source": [
    "piloto_valor_uper = {}"
   ]
  },
  {
   "cell_type": "code",
   "execution_count": 7,
   "id": "90b7d04d-9e4a-416b-b414-e27902040118",
   "metadata": {},
   "outputs": [],
   "source": [
    "for chave,valor in piloto.items():\n",
    "    piloto_valor_uper[chave]= valor.upper()"
   ]
  },
  {
   "cell_type": "code",
   "execution_count": 8,
   "id": "540deadb-6541-476c-b837-50bd2388e012",
   "metadata": {},
   "outputs": [
    {
     "data": {
      "text/plain": [
       "{'classe': 'FORMULA 1',\n",
       " 'nome': 'BRUNO SALDANHA',\n",
       " 'nacionalidade': 'BRASILEIRO',\n",
       " 'equipe': 'FERRARI'}"
      ]
     },
     "execution_count": 8,
     "metadata": {},
     "output_type": "execute_result"
    }
   ],
   "source": [
    "piloto_valor_uper"
   ]
  },
  {
   "cell_type": "code",
   "execution_count": 9,
   "id": "aaaf341a-1117-4080-8371-60c497cb030c",
   "metadata": {},
   "outputs": [],
   "source": [
    "piloto_valor_uper_comprehension = {chave: valor.upper() for chave, valor in piloto.items()}"
   ]
  },
  {
   "cell_type": "code",
   "execution_count": 10,
   "id": "2d4d820f-7c50-458a-9dbb-139039f6bf34",
   "metadata": {},
   "outputs": [
    {
     "data": {
      "text/plain": [
       "{'classe': 'FORMULA 1',\n",
       " 'nome': 'BRUNO SALDANHA',\n",
       " 'nacionalidade': 'BRASILEIRO',\n",
       " 'equipe': 'FERRARI'}"
      ]
     },
     "execution_count": 10,
     "metadata": {},
     "output_type": "execute_result"
    }
   ],
   "source": [
    "piloto_valor_uper_comprehension"
   ]
  },
  {
   "cell_type": "code",
   "execution_count": null,
   "id": "f85d56b1-932d-49f0-8c5a-6bedc7535630",
   "metadata": {},
   "outputs": [],
   "source": []
  }
 ],
 "metadata": {
  "kernelspec": {
   "display_name": "Python 3 (ipykernel)",
   "language": "python",
   "name": "python3"
  },
  "language_info": {
   "codemirror_mode": {
    "name": "ipython",
    "version": 3
   },
   "file_extension": ".py",
   "mimetype": "text/x-python",
   "name": "python",
   "nbconvert_exporter": "python",
   "pygments_lexer": "ipython3",
   "version": "3.11.6"
  }
 },
 "nbformat": 4,
 "nbformat_minor": 5
}
