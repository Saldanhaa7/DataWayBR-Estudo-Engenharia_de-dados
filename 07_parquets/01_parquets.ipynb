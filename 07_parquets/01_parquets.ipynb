{
 "cells": [
  {
   "cell_type": "code",
   "execution_count": 3,
   "id": "e69ac0bb-3cc7-4130-93c9-766a3dc1d77c",
   "metadata": {},
   "outputs": [
    {
     "name": "stdout",
     "output_type": "stream",
     "text": [
      "Requirement already satisfied: pyarrow in /opt/conda/lib/python3.11/site-packages (13.0.0)\n",
      "Requirement already satisfied: numpy>=1.16.6 in /opt/conda/lib/python3.11/site-packages (from pyarrow) (1.24.4)\n"
     ]
    }
   ],
   "source": [
    "!pip install pyarrow"
   ]
  },
  {
   "cell_type": "code",
   "execution_count": 1,
   "id": "0ff65a15-f887-4dc8-91dc-9917f88f7f1f",
   "metadata": {},
   "outputs": [],
   "source": [
    "import pandas as pd"
   ]
  },
  {
   "cell_type": "code",
   "execution_count": 2,
   "id": "8f5e832b-b407-4521-a26c-b9f1d353d2a3",
   "metadata": {},
   "outputs": [],
   "source": [
    "import time"
   ]
  },
  {
   "cell_type": "code",
   "execution_count": 4,
   "id": "fde66252-3907-43cf-8557-a2d339c15564",
   "metadata": {},
   "outputs": [],
   "source": [
    "df_orgs = pd.read_csv('./data/organizations-100k.csv')"
   ]
  },
  {
   "cell_type": "code",
   "execution_count": 5,
   "id": "9af6a31e-b2e2-414a-8393-c7adb4cb0cdf",
   "metadata": {},
   "outputs": [
    {
     "data": {
      "text/html": [
       "<div>\n",
       "<style scoped>\n",
       "    .dataframe tbody tr th:only-of-type {\n",
       "        vertical-align: middle;\n",
       "    }\n",
       "\n",
       "    .dataframe tbody tr th {\n",
       "        vertical-align: top;\n",
       "    }\n",
       "\n",
       "    .dataframe thead th {\n",
       "        text-align: right;\n",
       "    }\n",
       "</style>\n",
       "<table border=\"1\" class=\"dataframe\">\n",
       "  <thead>\n",
       "    <tr style=\"text-align: right;\">\n",
       "      <th></th>\n",
       "      <th>Index</th>\n",
       "      <th>Organization Id</th>\n",
       "      <th>Name</th>\n",
       "      <th>Website</th>\n",
       "      <th>Country</th>\n",
       "      <th>Description</th>\n",
       "      <th>Founded</th>\n",
       "      <th>Industry</th>\n",
       "      <th>Number of employees</th>\n",
       "    </tr>\n",
       "  </thead>\n",
       "  <tbody>\n",
       "    <tr>\n",
       "      <th>0</th>\n",
       "      <td>1</td>\n",
       "      <td>8cC6B5992C0309c</td>\n",
       "      <td>Acevedo LLC</td>\n",
       "      <td>https://www.donovan.com/</td>\n",
       "      <td>Holy See (Vatican City State)</td>\n",
       "      <td>Multi-channeled bottom-line core</td>\n",
       "      <td>2019</td>\n",
       "      <td>Graphic Design / Web Design</td>\n",
       "      <td>7070</td>\n",
       "    </tr>\n",
       "    <tr>\n",
       "      <th>1</th>\n",
       "      <td>2</td>\n",
       "      <td>ec094061FeaF7Bc</td>\n",
       "      <td>Walls-Mcdonald</td>\n",
       "      <td>http://arias-willis.net/</td>\n",
       "      <td>Lithuania</td>\n",
       "      <td>Compatible encompassing groupware</td>\n",
       "      <td>2005</td>\n",
       "      <td>Utilities</td>\n",
       "      <td>8156</td>\n",
       "    </tr>\n",
       "    <tr>\n",
       "      <th>2</th>\n",
       "      <td>3</td>\n",
       "      <td>DAcC5dbc58946A7</td>\n",
       "      <td>Gregory PLC</td>\n",
       "      <td>http://www.lynch-hoover.net/</td>\n",
       "      <td>Tokelau</td>\n",
       "      <td>Multi-channeled intangible help-desk</td>\n",
       "      <td>2019</td>\n",
       "      <td>Leisure / Travel</td>\n",
       "      <td>6121</td>\n",
       "    </tr>\n",
       "    <tr>\n",
       "      <th>3</th>\n",
       "      <td>4</td>\n",
       "      <td>8Dd7beDa37FbeD0</td>\n",
       "      <td>Byrd, Patterson and Knox</td>\n",
       "      <td>https://www.james-velez.net/</td>\n",
       "      <td>Netherlands</td>\n",
       "      <td>Pre-emptive national function</td>\n",
       "      <td>1982</td>\n",
       "      <td>Furniture</td>\n",
       "      <td>3494</td>\n",
       "    </tr>\n",
       "    <tr>\n",
       "      <th>4</th>\n",
       "      <td>5</td>\n",
       "      <td>a3b5c54AEC163e4</td>\n",
       "      <td>Mcdowell-Hopkins</td>\n",
       "      <td>http://fuentes.com/</td>\n",
       "      <td>Mayotte</td>\n",
       "      <td>Cloned bifurcated solution</td>\n",
       "      <td>2016</td>\n",
       "      <td>Online Publishing</td>\n",
       "      <td>36</td>\n",
       "    </tr>\n",
       "  </tbody>\n",
       "</table>\n",
       "</div>"
      ],
      "text/plain": [
       "   Index  Organization Id                      Name  \\\n",
       "0      1  8cC6B5992C0309c               Acevedo LLC   \n",
       "1      2  ec094061FeaF7Bc            Walls-Mcdonald   \n",
       "2      3  DAcC5dbc58946A7               Gregory PLC   \n",
       "3      4  8Dd7beDa37FbeD0  Byrd, Patterson and Knox   \n",
       "4      5  a3b5c54AEC163e4          Mcdowell-Hopkins   \n",
       "\n",
       "                        Website                        Country  \\\n",
       "0      https://www.donovan.com/  Holy See (Vatican City State)   \n",
       "1      http://arias-willis.net/                      Lithuania   \n",
       "2  http://www.lynch-hoover.net/                        Tokelau   \n",
       "3  https://www.james-velez.net/                    Netherlands   \n",
       "4           http://fuentes.com/                        Mayotte   \n",
       "\n",
       "                            Description  Founded                     Industry  \\\n",
       "0      Multi-channeled bottom-line core     2019  Graphic Design / Web Design   \n",
       "1     Compatible encompassing groupware     2005                    Utilities   \n",
       "2  Multi-channeled intangible help-desk     2019             Leisure / Travel   \n",
       "3         Pre-emptive national function     1982                    Furniture   \n",
       "4            Cloned bifurcated solution     2016            Online Publishing   \n",
       "\n",
       "   Number of employees  \n",
       "0                 7070  \n",
       "1                 8156  \n",
       "2                 6121  \n",
       "3                 3494  \n",
       "4                   36  "
      ]
     },
     "execution_count": 5,
     "metadata": {},
     "output_type": "execute_result"
    }
   ],
   "source": [
    "df_orgs.head()"
   ]
  },
  {
   "cell_type": "code",
   "execution_count": 7,
   "id": "166a0785-dc27-4122-92e3-79ec38da84ae",
   "metadata": {},
   "outputs": [],
   "source": [
    "df_orgs.to_parquet('./data/raw/organizations/organizations-100k.parquet')"
   ]
  },
  {
   "cell_type": "code",
   "execution_count": 8,
   "id": "67665068-10a3-4a3d-8dc0-413756c8e575",
   "metadata": {},
   "outputs": [],
   "source": [
    "(\n",
    "    df_orgs\n",
    "    .to_parquet(\n",
    "        path='./data/raw/organizations_partition/',\n",
    "        engine='pyarrow',\n",
    "        compression='snappy',\n",
    "        index=False,\n",
    "        partition_cols=['Founded']\n",
    "    )\n",
    ")"
   ]
  },
  {
   "cell_type": "code",
   "execution_count": 13,
   "id": "b8cbf46b-7d20-4661-a2dc-5a17b292a967",
   "metadata": {},
   "outputs": [],
   "source": [
    "start_all = time.process_time()\n",
    "df_all = pd.read_parquet(\n",
    "    path='./data/raw/organizations/',\n",
    ")\n",
    "\n",
    "time_elapsed_all = round( time.process_time() - start_all, 4)"
   ]
  },
  {
   "cell_type": "code",
   "execution_count": 14,
   "id": "b97a7f56-d666-43c0-a748-3892f3c983c4",
   "metadata": {},
   "outputs": [
    {
     "data": {
      "text/plain": [
       "0.2581"
      ]
     },
     "execution_count": 14,
     "metadata": {},
     "output_type": "execute_result"
    }
   ],
   "source": [
    "time_elapsed_all"
   ]
  },
  {
   "cell_type": "code",
   "execution_count": 18,
   "id": "3cf7170f-9179-4351-b4a5-c3782d8a48f9",
   "metadata": {},
   "outputs": [],
   "source": [
    "\n",
    "start_filter = time.process_time()\n",
    "df_founded_2010 = pd.read_parquet(\n",
    "    path='./data/raw/organizations_partition/',\n",
    "    engine='pyarrow',\n",
    "    filters=[('Founded', '==', 2010)]\n",
    ")\n",
    "time_elapsed_filter = round( time.process_time() - start_filter, 4)"
   ]
  },
  {
   "cell_type": "code",
   "execution_count": 19,
   "id": "c71ed31a-8a6e-4594-a57c-bd6ac838bfea",
   "metadata": {},
   "outputs": [
    {
     "data": {
      "text/plain": [
       "0.0394"
      ]
     },
     "execution_count": 19,
     "metadata": {},
     "output_type": "execute_result"
    }
   ],
   "source": [
    "time_elapsed_filter"
   ]
  },
  {
   "cell_type": "code",
   "execution_count": 20,
   "id": "a141ab91-5158-4d4a-aad7-348f62c6375a",
   "metadata": {},
   "outputs": [],
   "source": [
    "difference_percent = round( (time_elapsed_all / time_elapsed_filter) * 100, 2)"
   ]
  },
  {
   "cell_type": "code",
   "execution_count": 21,
   "id": "06c6079e-535a-4a18-b25a-febc036e139b",
   "metadata": {},
   "outputs": [
    {
     "data": {
      "text/plain": [
       "655.08"
      ]
     },
     "execution_count": 21,
     "metadata": {},
     "output_type": "execute_result"
    }
   ],
   "source": [
    "difference_percent"
   ]
  },
  {
   "cell_type": "code",
   "execution_count": null,
   "id": "cc2ea241-bc8e-40ef-b918-a95290dd959b",
   "metadata": {},
   "outputs": [],
   "source": []
  }
 ],
 "metadata": {
  "kernelspec": {
   "display_name": "Python 3 (ipykernel)",
   "language": "python",
   "name": "python3"
  },
  "language_info": {
   "codemirror_mode": {
    "name": "ipython",
    "version": 3
   },
   "file_extension": ".py",
   "mimetype": "text/x-python",
   "name": "python",
   "nbconvert_exporter": "python",
   "pygments_lexer": "ipython3",
   "version": "3.11.6"
  }
 },
 "nbformat": 4,
 "nbformat_minor": 5
}
