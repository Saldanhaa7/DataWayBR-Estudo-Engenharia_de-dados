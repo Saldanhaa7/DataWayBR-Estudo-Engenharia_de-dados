{
 "cells": [
  {
   "cell_type": "code",
   "execution_count": 1,
   "id": "032828f3-948a-467a-aedd-b4ae55faf0aa",
   "metadata": {},
   "outputs": [
    {
     "name": "stdout",
     "output_type": "stream",
     "text": [
      "Requirement already satisfied: requests in /opt/conda/lib/python3.11/site-packages (2.31.0)\n",
      "Requirement already satisfied: charset-normalizer<4,>=2 in /opt/conda/lib/python3.11/site-packages (from requests) (3.3.0)\n",
      "Requirement already satisfied: idna<4,>=2.5 in /opt/conda/lib/python3.11/site-packages (from requests) (3.4)\n",
      "Requirement already satisfied: urllib3<3,>=1.21.1 in /opt/conda/lib/python3.11/site-packages (from requests) (2.0.7)\n",
      "Requirement already satisfied: certifi>=2017.4.17 in /opt/conda/lib/python3.11/site-packages (from requests) (2023.7.22)\n"
     ]
    }
   ],
   "source": [
    "!pip install requests\n",
    "import requests"
   ]
  },
  {
   "cell_type": "code",
   "execution_count": 2,
   "id": "7fd09d9c-6bd1-4cc6-a645-a16302459b4c",
   "metadata": {},
   "outputs": [],
   "source": [
    "def extract_bitcoin_rate():\n",
    "\n",
    "    url = 'https://api.coindesk.com/v1/bpi/currentprice.json'\n",
    "    response = requests.get(url)\n",
    "    \n",
    "    return response.json()"
   ]
  },
  {
   "cell_type": "code",
   "execution_count": 3,
   "id": "991c7b19-6df5-447e-a186-7c530f9bb326",
   "metadata": {},
   "outputs": [],
   "source": [
    "taxa = extract_bitcoin_rate()"
   ]
  },
  {
   "cell_type": "code",
   "execution_count": 4,
   "id": "3120d98e-b2a7-4165-ab18-7b6b0a1bc2cc",
   "metadata": {},
   "outputs": [
    {
     "data": {
      "text/plain": [
       "{'time': {'updated': 'Apr 23, 2024 22:28:57 UTC',\n",
       "  'updatedISO': '2024-04-23T22:28:57+00:00',\n",
       "  'updateduk': 'Apr 23, 2024 at 23:28 BST'},\n",
       " 'disclaimer': 'This data was produced from the CoinDesk Bitcoin Price Index (USD). Non-USD currency data converted using hourly conversion rate from openexchangerates.org',\n",
       " 'chartName': 'Bitcoin',\n",
       " 'bpi': {'USD': {'code': 'USD',\n",
       "   'symbol': '&#36;',\n",
       "   'rate': '66,448.981',\n",
       "   'description': 'United States Dollar',\n",
       "   'rate_float': 66448.981},\n",
       "  'GBP': {'code': 'GBP',\n",
       "   'symbol': '&pound;',\n",
       "   'rate': '53,378.666',\n",
       "   'description': 'British Pound Sterling',\n",
       "   'rate_float': 53378.6658},\n",
       "  'EUR': {'code': 'EUR',\n",
       "   'symbol': '&euro;',\n",
       "   'rate': '62,083.217',\n",
       "   'description': 'Euro',\n",
       "   'rate_float': 62083.2165}}}"
      ]
     },
     "execution_count": 4,
     "metadata": {},
     "output_type": "execute_result"
    }
   ],
   "source": [
    "taxa"
   ]
  },
  {
   "cell_type": "code",
   "execution_count": 6,
   "id": "42210b63-e541-4c30-8641-a442273a59ba",
   "metadata": {},
   "outputs": [],
   "source": [
    "usd_rate = taxa['bpi']['USD']['rate']"
   ]
  },
  {
   "cell_type": "code",
   "execution_count": 7,
   "id": "f1c23173-2bd8-4e80-8222-9baa8206af29",
   "metadata": {},
   "outputs": [
    {
     "data": {
      "text/plain": [
       "'66,448.981'"
      ]
     },
     "execution_count": 7,
     "metadata": {},
     "output_type": "execute_result"
    }
   ],
   "source": [
    "usd_rate"
   ]
  },
  {
   "cell_type": "code",
   "execution_count": 8,
   "id": "a2e23d5d-aaf0-4dfe-9c1f-5443702ac8a4",
   "metadata": {},
   "outputs": [],
   "source": [
    "usd_rate2 = taxa.get('bpi').get('USD').get('rate')"
   ]
  },
  {
   "cell_type": "code",
   "execution_count": 9,
   "id": "1fd6f49c-95dd-4b6f-9ea0-e8ae6b231de3",
   "metadata": {},
   "outputs": [
    {
     "data": {
      "text/plain": [
       "'66,448.981'"
      ]
     },
     "execution_count": 9,
     "metadata": {},
     "output_type": "execute_result"
    }
   ],
   "source": [
    "usd_rate2"
   ]
  },
  {
   "cell_type": "code",
   "execution_count": null,
   "id": "a36604a9-5094-4497-9e16-b8693adc9a02",
   "metadata": {},
   "outputs": [],
   "source": []
  }
 ],
 "metadata": {
  "kernelspec": {
   "display_name": "Python 3 (ipykernel)",
   "language": "python",
   "name": "python3"
  },
  "language_info": {
   "codemirror_mode": {
    "name": "ipython",
    "version": 3
   },
   "file_extension": ".py",
   "mimetype": "text/x-python",
   "name": "python",
   "nbconvert_exporter": "python",
   "pygments_lexer": "ipython3",
   "version": "3.11.6"
  }
 },
 "nbformat": 4,
 "nbformat_minor": 5
}
